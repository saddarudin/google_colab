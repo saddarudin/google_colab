{
  "nbformat": 4,
  "nbformat_minor": 0,
  "metadata": {
    "colab": {
      "provenance": [],
      "authorship_tag": "ABX9TyO11AgbXkSceBmIPTXpwcGd",
      "include_colab_link": true
    },
    "kernelspec": {
      "name": "python3",
      "display_name": "Python 3"
    },
    "language_info": {
      "name": "python"
    }
  },
  "cells": [
    {
      "cell_type": "markdown",
      "metadata": {
        "id": "view-in-github",
        "colab_type": "text"
      },
      "source": [
        "<a href=\"https://colab.research.google.com/github/saddarudin/google_colab/blob/main/nlp_part_of_speech_tagging.ipynb\" target=\"_parent\"><img src=\"https://colab.research.google.com/assets/colab-badge.svg\" alt=\"Open In Colab\"/></a>"
      ]
    },
    {
      "cell_type": "code",
      "execution_count": 1,
      "metadata": {
        "id": "Dl-drKocWz2w"
      },
      "outputs": [],
      "source": [
        "import spacy\n",
        "nlp = spacy.load('en_core_web_sm')"
      ]
    },
    {
      "cell_type": "code",
      "source": [
        "doc = nlp('Elon flew to mars yesterday. He carried biryani masala with him')\n",
        "\n",
        "for token in doc:\n",
        "  print(token)"
      ],
      "metadata": {
        "colab": {
          "base_uri": "https://localhost:8080/"
        },
        "id": "1XEUzQNFXexP",
        "outputId": "b4dcb6d4-5a04-4f5e-c46c-52d629a12461"
      },
      "execution_count": 2,
      "outputs": [
        {
          "output_type": "stream",
          "name": "stdout",
          "text": [
            "Elon\n",
            "flew\n",
            "to\n",
            "mars\n",
            "yesterday\n",
            ".\n",
            "He\n",
            "carried\n",
            "biryani\n",
            "masala\n",
            "with\n",
            "him\n"
          ]
        }
      ]
    },
    {
      "cell_type": "code",
      "source": [
        "for token in doc:\n",
        "  print(token, '|', token.pos_,'|',spacy.explain(token.pos_), '|', token.lemma_)"
      ],
      "metadata": {
        "colab": {
          "base_uri": "https://localhost:8080/"
        },
        "id": "BtsYpWPqXxZr",
        "outputId": "a9f2c894-8b3d-4222-bf81-bfdccf33bff8"
      },
      "execution_count": 5,
      "outputs": [
        {
          "output_type": "stream",
          "name": "stdout",
          "text": [
            "Elon | PROPN | proper noun | Elon\n",
            "flew | VERB | verb | fly\n",
            "to | ADP | adposition | to\n",
            "mars | NOUN | noun | mar\n",
            "yesterday | NOUN | noun | yesterday\n",
            ". | PUNCT | punctuation | .\n",
            "He | PRON | pronoun | he\n",
            "carried | VERB | verb | carry\n",
            "biryani | ADJ | adjective | biryani\n",
            "masala | NOUN | noun | masala\n",
            "with | ADP | adposition | with\n",
            "him | PRON | pronoun | he\n"
          ]
        }
      ]
    },
    {
      "cell_type": "code",
      "source": [
        "# token.tag_ tells more detail in combination with part of speech\n",
        "doc = nlp(\"Wow! Dr. Strange made 265 million $ on the very first day\")\n",
        "\n",
        "for token in doc:\n",
        "  print(token,'|',spacy.explain(token.tag_))"
      ],
      "metadata": {
        "colab": {
          "base_uri": "https://localhost:8080/"
        },
        "id": "cJB5vx94YEyv",
        "outputId": "0e2dc06d-c90e-437f-e0bd-fd877883d5e6"
      },
      "execution_count": 12,
      "outputs": [
        {
          "output_type": "stream",
          "name": "stdout",
          "text": [
            "Wow | interjection\n",
            "! | punctuation mark, sentence closer\n",
            "Dr. | noun, proper singular\n",
            "Strange | noun, proper singular\n",
            "made | verb, past tense\n",
            "265 | cardinal number\n",
            "million | cardinal number\n",
            "$ | cardinal number\n",
            "on | conjunction, subordinating or preposition\n",
            "the | determiner\n",
            "very | adverb\n",
            "first | adjective (English), other noun-modifier (Chinese)\n",
            "day | noun, singular or mass\n"
          ]
        }
      ]
    },
    {
      "cell_type": "code",
      "source": [
        "doc = nlp('He quits the job')\n",
        "spacy.explain(doc[1].tag_)"
      ],
      "metadata": {
        "colab": {
          "base_uri": "https://localhost:8080/",
          "height": 36
        },
        "id": "0OvfuSPEZib0",
        "outputId": "bda69627-b659-443f-b4a1-b323eb631272"
      },
      "execution_count": 13,
      "outputs": [
        {
          "output_type": "execute_result",
          "data": {
            "text/plain": [
              "'verb, 3rd person singular present'"
            ],
            "application/vnd.google.colaboratory.intrinsic+json": {
              "type": "string"
            }
          },
          "metadata": {},
          "execution_count": 13
        }
      ]
    },
    {
      "cell_type": "code",
      "source": [
        "pos = nlp('He quit the job')\n",
        "spacy.explain(doc[1].tag_)"
      ],
      "metadata": {
        "colab": {
          "base_uri": "https://localhost:8080/",
          "height": 36
        },
        "id": "8VaVoUWQbjZI",
        "outputId": "a6f831f4-2282-4acf-dc7f-be10492b8000"
      },
      "execution_count": 14,
      "outputs": [
        {
          "output_type": "execute_result",
          "data": {
            "text/plain": [
              "'verb, 3rd person singular present'"
            ],
            "application/vnd.google.colaboratory.intrinsic+json": {
              "type": "string"
            }
          },
          "metadata": {},
          "execution_count": 14
        }
      ]
    },
    {
      "cell_type": "code",
      "source": [
        "earnings_text = '''\n",
        "Microsoft Corp. today announced the following results for the quarter ended June 30, 2024, as compared to the corresponding period of last fiscal year:\n",
        "\n",
        "·        Revenue was $64.7 billion and increased 15% (up 16% in constant currency)\n",
        "\n",
        "·        Operating income was $27.9 billion and increased 15% (up 16% in constant currency)\n",
        "\n",
        "·        Net income was $22.0 billion and increased 10% (up 11% in constant currency)\n",
        "\n",
        "·        Diluted earnings per share was $2.95 and increased 10% (up 11% in constant currency)\n",
        "\n",
        "“Our strong performance this fiscal year speaks both to our innovation and to the trust customers continue to place in Microsoft,\" said Satya Nadella, chairman and chief executive officer of Microsoft. “As a platform company, we are focused on meeting the mission-critical needs of our customers across our at-scale platforms today, while also ensuring we lead the AI era.”\n",
        "\n",
        "“We closed out our fiscal year with a solid quarter etc., highlighted by record bookings and Microsoft Cloud quarterly revenue of $36.8 billion, up 21% (up 22% in constant currency) year-over-year,” said Amy Hood, executive vice president and chief financial officer of Microsoft.\n",
        "'''"
      ],
      "metadata": {
        "id": "yyNA2QPRbn35"
      },
      "execution_count": 18,
      "outputs": []
    },
    {
      "cell_type": "code",
      "source": [
        "doc = nlp(earnings_text)"
      ],
      "metadata": {
        "id": "ORMeSMqCcRtJ"
      },
      "execution_count": 19,
      "outputs": []
    },
    {
      "cell_type": "markdown",
      "source": [
        "## removing punctuation marks and extra characters for example 'etc.'"
      ],
      "metadata": {
        "id": "x5fkNRWpccS0"
      }
    },
    {
      "cell_type": "code",
      "source": [
        "for token in doc:\n",
        "  if token.pos_ in ['SPACE','X','PUNCT']:\n",
        "    print(token, '|', spacy.explain(token.tag_))"
      ],
      "metadata": {
        "colab": {
          "base_uri": "https://localhost:8080/"
        },
        "id": "vP1frWSYciWb",
        "outputId": "d054a646-395c-452c-984b-fb706c37e279"
      },
      "execution_count": 22,
      "outputs": [
        {
          "output_type": "stream",
          "name": "stdout",
          "text": [
            "\n",
            " | whitespace\n",
            ", | punctuation mark, comma\n",
            ", | punctuation mark, comma\n",
            ": | punctuation mark, colon or ellipsis\n",
            "\n",
            "\n",
            " | whitespace\n",
            "· | superfluous punctuation\n",
            "        | whitespace\n",
            "( | left round bracket\n",
            ") | right round bracket\n",
            "\n",
            "\n",
            " | whitespace\n",
            "· | superfluous punctuation\n",
            "        | whitespace\n",
            "( | left round bracket\n",
            ") | right round bracket\n",
            "\n",
            "\n",
            " | whitespace\n",
            "· | superfluous punctuation\n",
            "        | whitespace\n",
            "( | left round bracket\n",
            ") | right round bracket\n",
            "\n",
            "\n",
            " | whitespace\n",
            "· | superfluous punctuation\n",
            "        | whitespace\n",
            "( | left round bracket\n",
            ") | right round bracket\n",
            "\n",
            "\n",
            " | whitespace\n",
            "“ | opening quotation mark\n",
            ", | punctuation mark, comma\n",
            "\" | closing quotation mark\n",
            ", | punctuation mark, comma\n",
            ". | punctuation mark, sentence closer\n",
            "“ | opening quotation mark\n",
            ", | punctuation mark, comma\n",
            "- | punctuation mark, hyphen\n",
            "- | punctuation mark, hyphen\n",
            ", | punctuation mark, comma\n",
            ". | punctuation mark, sentence closer\n",
            "” | closing quotation mark\n",
            "\n",
            "\n",
            " | whitespace\n",
            "“ | opening quotation mark\n",
            "etc | foreign word\n",
            ". | foreign word\n",
            ", | punctuation mark, comma\n",
            ", | punctuation mark, comma\n",
            "( | left round bracket\n",
            ") | right round bracket\n",
            "- | punctuation mark, hyphen\n",
            "- | punctuation mark, hyphen\n",
            ", | punctuation mark, comma\n",
            "” | closing quotation mark\n",
            ", | punctuation mark, comma\n",
            ". | punctuation mark, sentence closer\n",
            "\n",
            " | whitespace\n"
          ]
        }
      ]
    },
    {
      "cell_type": "code",
      "source": [
        "filtered_tokens = []\n",
        "for token in doc:\n",
        "  if token.pos_ not in ['SPACE','X','PUNCT']:\n",
        "    filtered_tokens.append(token)\n",
        "\n",
        "filtered_tokens[:10]"
      ],
      "metadata": {
        "colab": {
          "base_uri": "https://localhost:8080/"
        },
        "id": "3HIddNPbc2zc",
        "outputId": "8986df12-59c5-4ec8-9cab-0068bfa9fce2"
      },
      "execution_count": 23,
      "outputs": [
        {
          "output_type": "execute_result",
          "data": {
            "text/plain": [
              "[Microsoft,\n",
              " Corp.,\n",
              " today,\n",
              " announced,\n",
              " the,\n",
              " following,\n",
              " results,\n",
              " for,\n",
              " the,\n",
              " quarter]"
            ]
          },
          "metadata": {},
          "execution_count": 23
        }
      ]
    },
    {
      "cell_type": "markdown",
      "source": [
        "## counting part of speech"
      ],
      "metadata": {
        "id": "7r7CmWe0et-m"
      }
    },
    {
      "cell_type": "code",
      "source": [
        "count = doc.count_by(spacy.attrs.POS)\n",
        "count"
      ],
      "metadata": {
        "colab": {
          "base_uri": "https://localhost:8080/"
        },
        "id": "8iYBTlbMeWUy",
        "outputId": "ce0f7233-137a-4ead-e5a2-3b772095b69a"
      },
      "execution_count": 24,
      "outputs": [
        {
          "output_type": "execute_result",
          "data": {
            "text/plain": [
              "{103: 12,\n",
              " 96: 13,\n",
              " 92: 51,\n",
              " 100: 21,\n",
              " 90: 9,\n",
              " 85: 24,\n",
              " 93: 21,\n",
              " 97: 38,\n",
              " 98: 2,\n",
              " 84: 20,\n",
              " 87: 5,\n",
              " 99: 5,\n",
              " 89: 8,\n",
              " 86: 7,\n",
              " 95: 9,\n",
              " 94: 1,\n",
              " 101: 2}"
            ]
          },
          "metadata": {},
          "execution_count": 24
        }
      ]
    },
    {
      "cell_type": "code",
      "source": [
        "doc.vocab[103].text"
      ],
      "metadata": {
        "colab": {
          "base_uri": "https://localhost:8080/",
          "height": 36
        },
        "id": "gL0UsF37e2Rc",
        "outputId": "15235ff8-3dbf-48b5-d14a-8a3fa12aad64"
      },
      "execution_count": 27,
      "outputs": [
        {
          "output_type": "execute_result",
          "data": {
            "text/plain": [
              "'SPACE'"
            ],
            "application/vnd.google.colaboratory.intrinsic+json": {
              "type": "string"
            }
          },
          "metadata": {},
          "execution_count": 27
        }
      ]
    },
    {
      "cell_type": "code",
      "source": [
        "for k,v in count.items():\n",
        "  print(doc.vocab[k].text,'|',v)"
      ],
      "metadata": {
        "colab": {
          "base_uri": "https://localhost:8080/"
        },
        "id": "b4M4itmHe6Z-",
        "outputId": "4ba15a34-6e72-46f7-cc11-df13f87fe240"
      },
      "execution_count": 28,
      "outputs": [
        {
          "output_type": "stream",
          "name": "stdout",
          "text": [
            "SPACE | 12\n",
            "PROPN | 13\n",
            "NOUN | 51\n",
            "VERB | 21\n",
            "DET | 9\n",
            "ADP | 24\n",
            "NUM | 21\n",
            "PUNCT | 38\n",
            "SCONJ | 2\n",
            "ADJ | 20\n",
            "AUX | 5\n",
            "SYM | 5\n",
            "CCONJ | 8\n",
            "ADV | 7\n",
            "PRON | 9\n",
            "PART | 1\n",
            "X | 2\n"
          ]
        }
      ]
    },
    {
      "cell_type": "markdown",
      "source": [
        "## Exercise\n",
        "\n",
        "You are parsing a news story from cnbc.com. News story is stored in news_story.txt. You need to:\n",
        "\n",
        "\n",
        "1.   Extract all Noun tokens from this story.\n",
        "2.   Extract all numbers\n",
        "3.   Print a count of all POS tags in that story"
      ],
      "metadata": {
        "id": "2AZkh2mef3aN"
      }
    },
    {
      "cell_type": "code",
      "source": [
        "news_story=[]\n",
        "with open('news_story.txt') as f:\n",
        "  news_story.append(f.readlines())\n",
        "\n",
        "news_story"
      ],
      "metadata": {
        "colab": {
          "base_uri": "https://localhost:8080/"
        },
        "id": "cNfk2HIYfUkC",
        "outputId": "0e9325f6-6c0d-483c-904a-31e5e7968395"
      },
      "execution_count": 36,
      "outputs": [
        {
          "output_type": "execute_result",
          "data": {
            "text/plain": [
              "[['Inflation rose again in April, continuing a climb that has pushed consumers to the brink and is threatening the economic expansion, the Bureau of Labor Statistics reported Wednesday.\\n',\n",
              "  '\\n',\n",
              "  'The consumer price index, a broad-based measure of prices for goods and services, increased 8.3% from a year ago, higher than the Dow Jones estimate for an 8.1% gain. That represented a slight ease from March’s peak but was still close to the highest level since the summer of 1982.\\n',\n",
              "  '\\n',\n",
              "  'Removing volatile food and energy prices, so-called core CPI still rose 6.2%, against expectations for a 6% gain, clouding hopes that inflation had peaked in March.\\n',\n",
              "  '\\n',\n",
              "  'The month-over-month gains also were higher than expectations — 0.3% on headline CPI versus the 0.2% estimate and a 0.6% increase for core, against the outlook for a 0.4% gain.\\n',\n",
              "  '\\n',\n",
              "  'The price gains also meant that workers continued to lose ground. Real wages adjusted for inflation decreased 0.1% on the month despite a nominal increase of 0.3% in average hourly earnings. Over the past year, real earnings have dropped 2.6% even though average hourly earnings are up 5.5%.\\n',\n",
              "  '\\n',\n",
              "  'Inflation has been the single biggest threat to a recovery that began early in the Covid pandemic and saw the economy in 2021 stage its biggest single-year growth level since 1984. Rising prices at the pump and in grocery stores have been one problem, but inflation has spread beyond those two areas into housing, auto sales and a host of other areas.\\n',\n",
              "  '\\n',\n",
              "  'Federal Reserve officials have responded to the problem with two interest rate hikes so far this year and pledges of more until inflation comes down to the central bank’s 2% goal. However, Wednesday’s data shows that the Fed has a big job ahead.\\n',\n",
              "  '\\n',\n",
              "  'Credits: cnbc.com']]"
            ]
          },
          "metadata": {},
          "execution_count": 36
        }
      ]
    },
    {
      "cell_type": "code",
      "source": [
        "story = ''.join(news_story[0])\n",
        "story"
      ],
      "metadata": {
        "colab": {
          "base_uri": "https://localhost:8080/",
          "height": 199
        },
        "id": "Nu-L9xLwiPwX",
        "outputId": "65ffa329-79d2-4afa-c5a2-c1fb22236d7a"
      },
      "execution_count": 45,
      "outputs": [
        {
          "output_type": "execute_result",
          "data": {
            "text/plain": [
              "'Inflation rose again in April, continuing a climb that has pushed consumers to the brink and is threatening the economic expansion, the Bureau of Labor Statistics reported Wednesday.\\n\\nThe consumer price index, a broad-based measure of prices for goods and services, increased 8.3% from a year ago, higher than the Dow Jones estimate for an 8.1% gain. That represented a slight ease from March’s peak but was still close to the highest level since the summer of 1982.\\n\\nRemoving volatile food and energy prices, so-called core CPI still rose 6.2%, against expectations for a 6% gain, clouding hopes that inflation had peaked in March.\\n\\nThe month-over-month gains also were higher than expectations — 0.3% on headline CPI versus the 0.2% estimate and a 0.6% increase for core, against the outlook for a 0.4% gain.\\n\\nThe price gains also meant that workers continued to lose ground. Real wages adjusted for inflation decreased 0.1% on the month despite a nominal increase of 0.3% in average hourly earnings. Over the past year, real earnings have dropped 2.6% even though average hourly earnings are up 5.5%.\\n\\nInflation has been the single biggest threat to a recovery that began early in the Covid pandemic and saw the economy in 2021 stage its biggest single-year growth level since 1984. Rising prices at the pump and in grocery stores have been one problem, but inflation has spread beyond those two areas into housing, auto sales and a host of other areas.\\n\\nFederal Reserve officials have responded to the problem with two interest rate hikes so far this year and pledges of more until inflation comes down to the central bank’s 2% goal. However, Wednesday’s data shows that the Fed has a big job ahead.\\n\\nCredits: cnbc.com'"
            ],
            "application/vnd.google.colaboratory.intrinsic+json": {
              "type": "string"
            }
          },
          "metadata": {},
          "execution_count": 45
        }
      ]
    },
    {
      "cell_type": "code",
      "source": [
        "doc = nlp(story)\n",
        "nouns = []\n",
        "for token in doc:\n",
        "  if token.pos_ in ['NOUN','PROPN']:\n",
        "    nouns.append(token)\n",
        "\n",
        "nouns"
      ],
      "metadata": {
        "colab": {
          "base_uri": "https://localhost:8080/"
        },
        "id": "KlsBG7WSi8aY",
        "outputId": "b173f228-07d3-416f-c323-4a4702147d6a"
      },
      "execution_count": 48,
      "outputs": [
        {
          "output_type": "execute_result",
          "data": {
            "text/plain": [
              "[Inflation,\n",
              " April,\n",
              " climb,\n",
              " consumers,\n",
              " brink,\n",
              " expansion,\n",
              " Bureau,\n",
              " Labor,\n",
              " Statistics,\n",
              " Wednesday,\n",
              " consumer,\n",
              " price,\n",
              " index,\n",
              " measure,\n",
              " prices,\n",
              " goods,\n",
              " services,\n",
              " %,\n",
              " year,\n",
              " Dow,\n",
              " Jones,\n",
              " estimate,\n",
              " %,\n",
              " gain,\n",
              " ease,\n",
              " March,\n",
              " peak,\n",
              " level,\n",
              " summer,\n",
              " food,\n",
              " energy,\n",
              " prices,\n",
              " core,\n",
              " CPI,\n",
              " %,\n",
              " expectations,\n",
              " %,\n",
              " gain,\n",
              " hopes,\n",
              " inflation,\n",
              " March,\n",
              " month,\n",
              " month,\n",
              " gains,\n",
              " expectations,\n",
              " %,\n",
              " headline,\n",
              " CPI,\n",
              " %,\n",
              " estimate,\n",
              " %,\n",
              " increase,\n",
              " core,\n",
              " outlook,\n",
              " %,\n",
              " gain,\n",
              " price,\n",
              " gains,\n",
              " workers,\n",
              " ground,\n",
              " wages,\n",
              " inflation,\n",
              " %,\n",
              " month,\n",
              " increase,\n",
              " %,\n",
              " earnings,\n",
              " year,\n",
              " earnings,\n",
              " %,\n",
              " earnings,\n",
              " %,\n",
              " Inflation,\n",
              " threat,\n",
              " recovery,\n",
              " Covid,\n",
              " pandemic,\n",
              " economy,\n",
              " stage,\n",
              " year,\n",
              " growth,\n",
              " level,\n",
              " prices,\n",
              " pump,\n",
              " grocery,\n",
              " stores,\n",
              " problem,\n",
              " inflation,\n",
              " areas,\n",
              " housing,\n",
              " auto,\n",
              " sales,\n",
              " host,\n",
              " areas,\n",
              " Federal,\n",
              " Reserve,\n",
              " officials,\n",
              " problem,\n",
              " interest,\n",
              " rate,\n",
              " hikes,\n",
              " year,\n",
              " pledges,\n",
              " inflation,\n",
              " bank,\n",
              " %,\n",
              " goal,\n",
              " Wednesday,\n",
              " data,\n",
              " Fed,\n",
              " job,\n",
              " Credits]"
            ]
          },
          "metadata": {},
          "execution_count": 48
        }
      ]
    },
    {
      "cell_type": "code",
      "source": [
        "nums = []\n",
        "for token in doc:\n",
        "  if token.pos_ == 'NUM':\n",
        "    nums.append(token)\n",
        "\n",
        "nums"
      ],
      "metadata": {
        "colab": {
          "base_uri": "https://localhost:8080/"
        },
        "id": "UU7t5BzjlHrp",
        "outputId": "59084b6d-f749-4c68-a999-f78aaee697ca"
      },
      "execution_count": 49,
      "outputs": [
        {
          "output_type": "execute_result",
          "data": {
            "text/plain": [
              "[8.3,\n",
              " 8.1,\n",
              " 1982,\n",
              " 6.2,\n",
              " 6,\n",
              " 0.3,\n",
              " 0.2,\n",
              " 0.6,\n",
              " 0.4,\n",
              " 0.1,\n",
              " 0.3,\n",
              " 2.6,\n",
              " 5.5,\n",
              " 2021,\n",
              " 1984,\n",
              " one,\n",
              " two,\n",
              " two,\n",
              " 2]"
            ]
          },
          "metadata": {},
          "execution_count": 49
        }
      ]
    },
    {
      "cell_type": "code",
      "source": [
        "# other way\n",
        "numbers = []\n",
        "for token in doc:\n",
        "  if token.like_num:\n",
        "    numbers.append(token)\n",
        "\n",
        "numbers"
      ],
      "metadata": {
        "colab": {
          "base_uri": "https://localhost:8080/"
        },
        "id": "2EuefzmCl8MQ",
        "outputId": "008ca2ca-8bed-46e8-9fb1-422739c8b7a1"
      },
      "execution_count": 50,
      "outputs": [
        {
          "output_type": "execute_result",
          "data": {
            "text/plain": [
              "[8.3,\n",
              " 8.1,\n",
              " 1982,\n",
              " 6.2,\n",
              " 6,\n",
              " 0.3,\n",
              " 0.2,\n",
              " 0.6,\n",
              " 0.4,\n",
              " 0.1,\n",
              " 0.3,\n",
              " 2.6,\n",
              " 5.5,\n",
              " 2021,\n",
              " 1984,\n",
              " one,\n",
              " two,\n",
              " two,\n",
              " 2]"
            ]
          },
          "metadata": {},
          "execution_count": 50
        }
      ]
    },
    {
      "cell_type": "code",
      "source": [
        "len(nums),len(numbers)"
      ],
      "metadata": {
        "colab": {
          "base_uri": "https://localhost:8080/"
        },
        "id": "fBgti-abmLeE",
        "outputId": "7e1d5f1f-aaee-4164-f77d-7434e366ef6d"
      },
      "execution_count": 52,
      "outputs": [
        {
          "output_type": "execute_result",
          "data": {
            "text/plain": [
              "(19, 19)"
            ]
          },
          "metadata": {},
          "execution_count": 52
        }
      ]
    },
    {
      "cell_type": "code",
      "source": [
        "count = doc.count_by(spacy.attrs.POS)\n",
        "for k,v in count.items():\n",
        "  print(doc.vocab[k].text,'|',v)"
      ],
      "metadata": {
        "colab": {
          "base_uri": "https://localhost:8080/"
        },
        "id": "jgKEdeLdmPoo",
        "outputId": "8134ca71-4268-46d2-eb77-d55a07ef3f4d"
      },
      "execution_count": 53,
      "outputs": [
        {
          "output_type": "stream",
          "name": "stdout",
          "text": [
            "NOUN | 96\n",
            "VERB | 27\n",
            "ADV | 15\n",
            "ADP | 39\n",
            "PROPN | 16\n",
            "PUNCT | 32\n",
            "DET | 34\n",
            "PRON | 4\n",
            "AUX | 13\n",
            "CCONJ | 10\n",
            "ADJ | 23\n",
            "SPACE | 7\n",
            "NUM | 19\n",
            "PART | 4\n",
            "SCONJ | 8\n",
            "X | 1\n"
          ]
        }
      ]
    },
    {
      "cell_type": "code",
      "source": [],
      "metadata": {
        "id": "-kMpETUcmeNV"
      },
      "execution_count": null,
      "outputs": []
    }
  ]
}