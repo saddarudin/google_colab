{
  "nbformat": 4,
  "nbformat_minor": 0,
  "metadata": {
    "colab": {
      "provenance": [],
      "authorship_tag": "ABX9TyOgj3Pxnm7loa2smwPXl7er",
      "include_colab_link": true
    },
    "kernelspec": {
      "name": "python3",
      "display_name": "Python 3"
    },
    "language_info": {
      "name": "python"
    }
  },
  "cells": [
    {
      "cell_type": "markdown",
      "metadata": {
        "id": "view-in-github",
        "colab_type": "text"
      },
      "source": [
        "<a href=\"https://colab.research.google.com/github/saddarudin/google_colab/blob/main/LangChain_Memory_and_Agent.ipynb\" target=\"_parent\"><img src=\"https://colab.research.google.com/assets/colab-badge.svg\" alt=\"Open In Colab\"/></a>"
      ]
    },
    {
      "cell_type": "code",
      "execution_count": 1,
      "metadata": {
        "colab": {
          "base_uri": "https://localhost:8080/"
        },
        "id": "VLykIC2xfkn9",
        "outputId": "066e8a7b-40aa-4309-f132-575a6f56681f"
      },
      "outputs": [
        {
          "output_type": "stream",
          "name": "stdout",
          "text": [
            "\u001b[2K   \u001b[90m━━━━━━━━━━━━━━━━━━━━━━━━━━━━━━━━━━━━━━━━\u001b[0m \u001b[32m259.5/259.5 kB\u001b[0m \u001b[31m5.0 MB/s\u001b[0m eta \u001b[36m0:00:00\u001b[0m\n",
            "\u001b[2K   \u001b[90m━━━━━━━━━━━━━━━━━━━━━━━━━━━━━━━━━━━━━━━━\u001b[0m \u001b[32m3.3/3.3 MB\u001b[0m \u001b[31m22.4 MB/s\u001b[0m eta \u001b[36m0:00:00\u001b[0m\n",
            "\u001b[2K   \u001b[90m━━━━━━━━━━━━━━━━━━━━━━━━━━━━━━━━━━━━━━━━\u001b[0m \u001b[32m2.5/2.5 MB\u001b[0m \u001b[31m28.6 MB/s\u001b[0m eta \u001b[36m0:00:00\u001b[0m\n",
            "\u001b[2K   \u001b[90m━━━━━━━━━━━━━━━━━━━━━━━━━━━━━━━━━━━━━━━━\u001b[0m \u001b[32m45.2/45.2 kB\u001b[0m \u001b[31m3.1 MB/s\u001b[0m eta \u001b[36m0:00:00\u001b[0m\n",
            "\u001b[2K   \u001b[90m━━━━━━━━━━━━━━━━━━━━━━━━━━━━━━━━━━━━━━━━\u001b[0m \u001b[32m50.9/50.9 kB\u001b[0m \u001b[31m3.3 MB/s\u001b[0m eta \u001b[36m0:00:00\u001b[0m\n",
            "\u001b[?25h"
          ]
        }
      ],
      "source": [
        "!pip install langchain --quiet\n",
        "!pip install cohere --quiet\n",
        "!pip install tiktoken --quiet\n",
        "!pip install langchain_community --quiet"
      ]
    },
    {
      "cell_type": "code",
      "source": [
        "import os\n",
        "from google.colab import userdata\n",
        "os.environ['COHERE_API_KEY'] = userdata.get('COHERE_API_KEY')"
      ],
      "metadata": {
        "id": "hshBsgmkf44T"
      },
      "execution_count": 2,
      "outputs": []
    },
    {
      "cell_type": "code",
      "source": [
        "from langchain.llms import Cohere\n",
        "llm=Cohere(temperature=0)"
      ],
      "metadata": {
        "colab": {
          "base_uri": "https://localhost:8080/"
        },
        "id": "3dfM3EU8gI31",
        "outputId": "d992d586-82b4-407e-87d3-af30ad3b5325"
      },
      "execution_count": 3,
      "outputs": [
        {
          "output_type": "stream",
          "name": "stderr",
          "text": [
            "/tmp/ipython-input-3-1901359343.py:2: LangChainDeprecationWarning: The class `Cohere` was deprecated in LangChain 0.1.14 and will be removed in 1.0. An updated version of the class exists in the :class:`~langchain-cohere package and should be used instead. To use it run `pip install -U :class:`~langchain-cohere` and import as `from :class:`~langchain_cohere import Cohere``.\n",
            "  llm=Cohere(temperature=0)\n"
          ]
        }
      ]
    },
    {
      "cell_type": "markdown",
      "source": [
        "##Memory in LangChain"
      ],
      "metadata": {
        "id": "HMOqW9DVgbxs"
      }
    },
    {
      "cell_type": "code",
      "source": [
        "print(llm(\"When did Pakistan win Champions Tropy?\"))"
      ],
      "metadata": {
        "colab": {
          "base_uri": "https://localhost:8080/"
        },
        "id": "lx7WXcuggWpn",
        "outputId": "465947a8-f63e-442c-e079-d4d25081b0e5"
      },
      "execution_count": 4,
      "outputs": [
        {
          "output_type": "stream",
          "name": "stderr",
          "text": [
            "/tmp/ipython-input-4-1873858730.py:1: LangChainDeprecationWarning: The method `BaseLLM.__call__` was deprecated in langchain-core 0.1.7 and will be removed in 1.0. Use :meth:`~invoke` instead.\n",
            "  print(llm(\"When did Pakistan win Champions Tropy?\"))\n"
          ]
        },
        {
          "output_type": "stream",
          "name": "stdout",
          "text": [
            " Pakistan won the ICC Champions Trophy in 2017. They defeated India by 180 runs to win their first and only Champions Trophy. The match was closely contested till Pakistan opened up a lead of over 100 runs after which they were able to comfortably win the match. \n",
            "\n",
            "Do you wish to know more about this match? \n",
            "\n",
            "I can provide more information about the ICC Champions Trophy if you like. \n"
          ]
        }
      ]
    },
    {
      "cell_type": "code",
      "source": [
        "print(llm(\"Give me some player names in that team\"))"
      ],
      "metadata": {
        "colab": {
          "base_uri": "https://localhost:8080/"
        },
        "id": "vn_lMJX5gqmT",
        "outputId": "87750628-2028-4a6a-aaa3-89de3cee893a"
      },
      "execution_count": 5,
      "outputs": [
        {
          "output_type": "stream",
          "name": "stdout",
          "text": [
            " Sure! Here are some Cleveland Browns player names:\n",
            "\n",
            "- Deshaun Watson\n",
            "- Nick Chubb\n",
            "- Amari Cooper\n",
            "- Myles Garrett\n",
            "- Kareem Hunt\n",
            "- Baker Mayfield\n",
            "- Odell Beckham Jr.\n",
            "\n",
            "These players are some of the current roster members of the Cleveland Browns American football team, and are widely recognized for their contributions on and off the field. \n",
            "\n",
            "Let me know if you would like me to provide more information on any of these players, or if you would like me to give you some more names of key players in the Cleveland Browns organization. \n"
          ]
        }
      ]
    },
    {
      "cell_type": "markdown",
      "source": [
        "##ConversationBufferMemory"
      ],
      "metadata": {
        "id": "K1kFvSEUixiE"
      }
    },
    {
      "cell_type": "code",
      "source": [
        "from langchain.memory import ConversationBufferMemory\n",
        "from langchain.chains import ConversationChain"
      ],
      "metadata": {
        "id": "dS16t4C-g4wU"
      },
      "execution_count": 6,
      "outputs": []
    },
    {
      "cell_type": "code",
      "source": [
        "memory = ConversationBufferMemory()\n",
        "conversation = ConversationChain(llm=llm,memory=memory)\n",
        "print(conversation.predict(input=\"When did Pakistan win Champions Trophy?\"))"
      ],
      "metadata": {
        "colab": {
          "base_uri": "https://localhost:8080/"
        },
        "id": "0mhc4Ad3i8fW",
        "outputId": "077081a2-95db-4e16-9494-084bec342ac3"
      },
      "execution_count": 7,
      "outputs": [
        {
          "output_type": "stream",
          "name": "stderr",
          "text": [
            "/tmp/ipython-input-7-4240317010.py:1: LangChainDeprecationWarning: Please see the migration guide at: https://python.langchain.com/docs/versions/migrating_memory/\n",
            "  memory = ConversationBufferMemory()\n",
            "/tmp/ipython-input-7-4240317010.py:2: LangChainDeprecationWarning: The class `ConversationChain` was deprecated in LangChain 0.2.7 and will be removed in 1.0. Use :class:`~langchain_core.runnables.history.RunnableWithMessageHistory` instead.\n",
            "  conversation = ConversationChain(llm=llm,memory=memory)\n"
          ]
        },
        {
          "output_type": "stream",
          "name": "stdout",
          "text": [
            " The Champions Trophy was a One Day International (ODI) cricket tournament that was held from 1998 to 2017. Pakistan won the tournament once, in 2017, after beating India by 180 runs. \n",
            "\n",
            "Would you like to know more about this tournament, or any other cricket tournament Pakistan has won? \n"
          ]
        }
      ]
    },
    {
      "cell_type": "code",
      "source": [
        "print(conversation.predict(input=\"Give me some player names in that team\"))"
      ],
      "metadata": {
        "colab": {
          "base_uri": "https://localhost:8080/"
        },
        "id": "qf_0SV3yjVnH",
        "outputId": "dee6770c-6690-4b0a-9ee2-ab24e2ebd23c"
      },
      "execution_count": 8,
      "outputs": [
        {
          "output_type": "stream",
          "name": "stdout",
          "text": [
            " Here are some player names in Pakistan's 2017 Champions Trophy winning team: \n",
            "\n",
            "1. Mohammad Hafeez: He was the captain of the team and an all-rounder who played a crucial role in the final against India.\n",
            "2. Mohammad Amir: A promising left-arm fast bowler who was named the Player of the Series for his outstanding performance in the tournament.\n",
            "3. Babar Azam: A young and talented batsman known for his elegance and consistency at the crease.\n",
            "4. Sarfaraz Ahmed: A talented wicket-keeper and a handy lower-order batsman, often known for his energetic and enthusiastic attitude on the field.\n",
            "5. Hasan Ali: A rising star and a lethal right-arm fast bowler who was instrumental in Pakistan's victory with his crucial wickets in the final.\n",
            "6. Fakhar Zaman: A talented opener who scored a crucial 114 in the final and was named the Player of the Match. \n",
            "\n",
            "These are just a few of the players on the 2017 team. Let me know if you would like more names or additional information about any of these players. \n"
          ]
        }
      ]
    },
    {
      "cell_type": "markdown",
      "source": [
        "##With verbose=True"
      ],
      "metadata": {
        "id": "LzeMGmQtjvg8"
      }
    },
    {
      "cell_type": "code",
      "source": [
        "memory = ConversationBufferMemory()\n",
        "conversation = ConversationChain(llm=llm,memory=memory,verbose=True)\n",
        "print(conversation.predict(input=\"When did Pakistan win Champions Trophy?\"))"
      ],
      "metadata": {
        "colab": {
          "base_uri": "https://localhost:8080/"
        },
        "id": "9A8df8VDjfOM",
        "outputId": "ba54f8b3-b95c-4c81-f60f-ea627e9d7137"
      },
      "execution_count": 9,
      "outputs": [
        {
          "output_type": "stream",
          "name": "stdout",
          "text": [
            "\n",
            "\n",
            "\u001b[1m> Entering new ConversationChain chain...\u001b[0m\n",
            "Prompt after formatting:\n",
            "\u001b[32;1m\u001b[1;3mThe following is a friendly conversation between a human and an AI. The AI is talkative and provides lots of specific details from its context. If the AI does not know the answer to a question, it truthfully says it does not know.\n",
            "\n",
            "Current conversation:\n",
            "\n",
            "Human: When did Pakistan win Champions Trophy?\n",
            "AI:\u001b[0m\n",
            "\n",
            "\u001b[1m> Finished chain.\u001b[0m\n",
            " The Champions Trophy was a One Day International (ODI) cricket tournament that was held from 1998 to 2017. Pakistan won the tournament once, in 2017, after beating India by 180 runs. \n",
            "\n",
            "Would you like to know more about this tournament, or any other cricket tournament Pakistan has won? \n"
          ]
        }
      ]
    },
    {
      "cell_type": "code",
      "source": [
        "print(conversation.predict(input=\"Give me some player names in that team.\"))"
      ],
      "metadata": {
        "colab": {
          "base_uri": "https://localhost:8080/"
        },
        "id": "mna9IWy3kAUB",
        "outputId": "13a084c0-ecf4-468f-aa21-22ee80c1dd12"
      },
      "execution_count": 10,
      "outputs": [
        {
          "output_type": "stream",
          "name": "stdout",
          "text": [
            "\n",
            "\n",
            "\u001b[1m> Entering new ConversationChain chain...\u001b[0m\n",
            "Prompt after formatting:\n",
            "\u001b[32;1m\u001b[1;3mThe following is a friendly conversation between a human and an AI. The AI is talkative and provides lots of specific details from its context. If the AI does not know the answer to a question, it truthfully says it does not know.\n",
            "\n",
            "Current conversation:\n",
            "Human: When did Pakistan win Champions Trophy?\n",
            "AI:  The Champions Trophy was a One Day International (ODI) cricket tournament that was held from 1998 to 2017. Pakistan won the tournament once, in 2017, after beating India by 180 runs. \n",
            "\n",
            "Would you like to know more about this tournament, or any other cricket tournament Pakistan has won? \n",
            "Human: Give me some player names in that team.\n",
            "AI:\u001b[0m\n",
            "\n",
            "\u001b[1m> Finished chain.\u001b[0m\n",
            " Here are some player names in Pakistan's 2017 Champions Trophy winning team: \n",
            "\n",
            "1. Mohammad Hafeez: He was the captain of the team and an all-rounder who played a crucial role in the final against India.\n",
            "\n",
            "2. Mohammad Amir: A frontline pace bowler who bowled particularly well in the final, causing trouble for the Indian top order.\n",
            "\n",
            "3. Babar Azam: A top-order batsman that showed immense potential and performance during the tournament.\n",
            "\n",
            "4. Sarfaraz Ahmed: An aggressive wicketkeeper who scored a vital half-century in the final and contributed excellently behind the stumps.\n",
            "\n",
            "5. Hasan Ali: A emerging bowler who performed at his peak during the entire tournament and picked up vital wickets in the final. \n",
            "\n",
            "These are some of the key players in the 2017 Champions Trophy winning team, but there are many others who contributed to the victory. Let me know if you would like more information about any of these players or if you want to know about any other players from different cricketing eras in Pakistan. \n"
          ]
        }
      ]
    },
    {
      "cell_type": "markdown",
      "source": [
        "###What happens behind the scene?"
      ],
      "metadata": {
        "id": "ofDqKqaPkcRU"
      }
    },
    {
      "cell_type": "code",
      "source": [
        "print(conversation.memory.buffer)"
      ],
      "metadata": {
        "colab": {
          "base_uri": "https://localhost:8080/"
        },
        "id": "AzGfGPo4kL-K",
        "outputId": "72ec0f9a-a9bd-47b2-e244-0ecc76e24196"
      },
      "execution_count": 11,
      "outputs": [
        {
          "output_type": "stream",
          "name": "stdout",
          "text": [
            "Human: When did Pakistan win Champions Trophy?\n",
            "AI:  The Champions Trophy was a One Day International (ODI) cricket tournament that was held from 1998 to 2017. Pakistan won the tournament once, in 2017, after beating India by 180 runs. \n",
            "\n",
            "Would you like to know more about this tournament, or any other cricket tournament Pakistan has won? \n",
            "Human: Give me some player names in that team.\n",
            "AI:  Here are some player names in Pakistan's 2017 Champions Trophy winning team: \n",
            "\n",
            "1. Mohammad Hafeez: He was the captain of the team and an all-rounder who played a crucial role in the final against India.\n",
            "\n",
            "2. Mohammad Amir: A frontline pace bowler who bowled particularly well in the final, causing trouble for the Indian top order.\n",
            "\n",
            "3. Babar Azam: A top-order batsman that showed immense potential and performance during the tournament.\n",
            "\n",
            "4. Sarfaraz Ahmed: An aggressive wicketkeeper who scored a vital half-century in the final and contributed excellently behind the stumps.\n",
            "\n",
            "5. Hasan Ali: A emerging bowler who performed at his peak during the entire tournament and picked up vital wickets in the final. \n",
            "\n",
            "These are some of the key players in the 2017 Champions Trophy winning team, but there are many others who contributed to the victory. Let me know if you would like more information about any of these players or if you want to know about any other players from different cricketing eras in Pakistan. \n"
          ]
        }
      ]
    },
    {
      "cell_type": "markdown",
      "source": [
        "##Memory Example-2"
      ],
      "metadata": {
        "id": "x0Iepp4zkhdS"
      }
    },
    {
      "cell_type": "code",
      "source": [
        "llm = Cohere(temperature=0.5)\n",
        "memory = ConversationBufferMemory()\n",
        "conversation = ConversationChain(llm=llm,memory=memory)\n",
        "print(conversation.predict(input=\"Explain three main differences between Classification and Regression.\"))"
      ],
      "metadata": {
        "colab": {
          "base_uri": "https://localhost:8080/"
        },
        "id": "Jtn4l6c8keV6",
        "outputId": "42d31300-c52d-40d9-abba-d36bb3f069c6"
      },
      "execution_count": 12,
      "outputs": [
        {
          "output_type": "stream",
          "name": "stdout",
          "text": [
            " Classification and regression are among the most fundamental and important concepts in statistics and data analysis. These are the two extremes of a continuum, with many methods falling in between, leaning more toward one end or the other. These are tools to solve problems, and the nature of the problem dictates the approach. Hence, a good grasp of when to use which is a crucial aspect of data analysis. \n",
            "\n",
            "Here are three main differences between classification and regression:\n",
            "\n",
            "1. Goal of Interpretation: Forecasts made by regression models are primarily interpreted as predictions for how much of a continuous variable (e.g., sales revenue, gas consumption, etc.) will be observed under various circumstances. Conversely, classification models are employed to predict the membership of a particular instance to one of several discrete categories (e.g., fraud or non-fraud, acceptable risk or unacceptable risk, etc.). \n",
            "\n",
            "2. Nature of Outcome: Regression models typically predict a continuous variable and assume a linear relationship with the independent variables. The dependent variable ranges between infinity and negative infinity, with the prediction providing an exact value. Conversely, classification models involve a categorical variable with no intrinsic order. Using a classification model, one can estimate the probability of an instance falling into a particular category, but it cannot determine a\n"
          ]
        }
      ]
    },
    {
      "cell_type": "code",
      "source": [
        "conversation.predict(input='Give the output in markdown tabular code format')"
      ],
      "metadata": {
        "colab": {
          "base_uri": "https://localhost:8080/",
          "height": 127
        },
        "id": "UFRUffYTk7P2",
        "outputId": "77a866c2-e21b-4088-dd47-a1de6b16f7b2"
      },
      "execution_count": 13,
      "outputs": [
        {
          "output_type": "execute_result",
          "data": {
            "text/plain": [
              "' # Classification and Regression: Understanding the Key Differences\\n\\n| Difference      | Classification | Regression                                                                 |\\n|-----------------|---------------|-------------------------------------------------------------------------|\\n| Goal of Interpretation | Forecasts made by classification models are primarily interpreted as predictions assigning a particular instance to one of several discrete categories. | Forecasts made by regression models are typically interpreted as predictions for how much of a continuous variable (e.g., sales revenue, gas consumption, etc.) will be observed under various circumstances. |\\n| Nature of Outcome | Classification models involve a categorical variable with no intrinsic order, wherein the model estimates the probability of an instance falling into a particular category. | Regression models predict a continuous variable, assuming a linear relationship with the independent variables, where the dependent variable ranges between infinity and negative infinity, providing an exact value. |\\n\\nRemember, the choice between using classification or regression methods depends on the problem at hand. Understanding the nature of the outcome and the goal of interpretation is essential when deciding which approach to use in data analysis. \\n\\nThese tables provide a concise and structured overview of the key distinctions between classification and regression, making it easier to differentiate and comprehend the primary points of differentiation. Feel free to ask if you would like any further points elucidated! '"
            ],
            "application/vnd.google.colaboratory.intrinsic+json": {
              "type": "string"
            }
          },
          "metadata": {},
          "execution_count": 13
        }
      ]
    },
    {
      "cell_type": "code",
      "source": [
        "conversation.predict(input='Which one is most widely used in predicting customer churn?')"
      ],
      "metadata": {
        "colab": {
          "base_uri": "https://localhost:8080/",
          "height": 127
        },
        "id": "aKxqP9mYk9RU",
        "outputId": "3a644491-4d12-4b83-8799-35ddc17aae29"
      },
      "execution_count": 14,
      "outputs": [
        {
          "output_type": "execute_result",
          "data": {
            "text/plain": [
              "\" # Prediction of Customer Churn: An Overview and Recommendations\\n\\nThe prevalence of classification analysis in predicting customer churn stems from its ability to provide actionable insights and guide business strategies. Knowing the probability of a customer opting for a competitor's offering or terminating a service contract enables organizations to proactively implement retention strategies. By engaging in personalized communications, offering incentives, or providing specific discounts, businesses can enhance their customer retention rates and reduce the likelihood of revenue loss.\\n\\nClassification analysis is a powerful tool for predicting customer churn and providing actionable insights for business success. By utilizing appropriate datasets and applying robust algorithms, companies can effectively address churn concerns and cultivate a loyal customer base.\\n\\nPlease note that the importance of using actual churn datasets for modeling and ongoing monitoring, as well as the need for ongoing improvements and industry-specific considerations, for turning predictive analytics into actionable strategies that address customer churn. \""
            ],
            "application/vnd.google.colaboratory.intrinsic+json": {
              "type": "string"
            }
          },
          "metadata": {},
          "execution_count": 14
        }
      ]
    },
    {
      "cell_type": "code",
      "source": [
        "print(conversation.predict(input='Give me one more difference.'))"
      ],
      "metadata": {
        "colab": {
          "base_uri": "https://localhost:8080/"
        },
        "id": "Av4w3bv6lfb9",
        "outputId": "08f58591-9a71-4765-fd39-6864bae1626f"
      },
      "execution_count": 15,
      "outputs": [
        {
          "output_type": "stream",
          "name": "stdout",
          "text": [
            "  # Fourth Difference Between Classification and Regression Models: Problem Domain and Interpretability\n",
            "\n",
            "| Difference | Classification | Regression |\n",
            "|---|---|---|\n",
            "| **Problem Domain and Interpretability** | Classification analysis is highly interpretable and provides clear insights into the probability of specific events or categories. | Regression models lend themselves well to understanding the continuous relationship between variables and can offer insights into the magnitude of effects.| \n",
            "\n",
            "This distinction makes these models more or fewer considerations based on the problem domain and the type of interpretation needed. \n"
          ]
        }
      ]
    },
    {
      "cell_type": "code",
      "source": [
        "print(conversation.memory.buffer)"
      ],
      "metadata": {
        "colab": {
          "base_uri": "https://localhost:8080/"
        },
        "id": "uMWADVkLllde",
        "outputId": "f8f5c122-2deb-4fd7-e427-1954a3fbf314"
      },
      "execution_count": 16,
      "outputs": [
        {
          "output_type": "stream",
          "name": "stdout",
          "text": [
            "Human: Explain three main differences between Classification and Regression.\n",
            "AI:  Classification and regression are among the most fundamental and important concepts in statistics and data analysis. These are the two extremes of a continuum, with many methods falling in between, leaning more toward one end or the other. These are tools to solve problems, and the nature of the problem dictates the approach. Hence, a good grasp of when to use which is a crucial aspect of data analysis. \n",
            "\n",
            "Here are three main differences between classification and regression:\n",
            "\n",
            "1. Goal of Interpretation: Forecasts made by regression models are primarily interpreted as predictions for how much of a continuous variable (e.g., sales revenue, gas consumption, etc.) will be observed under various circumstances. Conversely, classification models are employed to predict the membership of a particular instance to one of several discrete categories (e.g., fraud or non-fraud, acceptable risk or unacceptable risk, etc.). \n",
            "\n",
            "2. Nature of Outcome: Regression models typically predict a continuous variable and assume a linear relationship with the independent variables. The dependent variable ranges between infinity and negative infinity, with the prediction providing an exact value. Conversely, classification models involve a categorical variable with no intrinsic order. Using a classification model, one can estimate the probability of an instance falling into a particular category, but it cannot determine a\n",
            "Human: Give the output in markdown tabular code format\n",
            "AI:  # Classification and Regression: Understanding the Key Differences\n",
            "\n",
            "| Difference      | Classification | Regression                                                                 |\n",
            "|-----------------|---------------|-------------------------------------------------------------------------|\n",
            "| Goal of Interpretation | Forecasts made by classification models are primarily interpreted as predictions assigning a particular instance to one of several discrete categories. | Forecasts made by regression models are typically interpreted as predictions for how much of a continuous variable (e.g., sales revenue, gas consumption, etc.) will be observed under various circumstances. |\n",
            "| Nature of Outcome | Classification models involve a categorical variable with no intrinsic order, wherein the model estimates the probability of an instance falling into a particular category. | Regression models predict a continuous variable, assuming a linear relationship with the independent variables, where the dependent variable ranges between infinity and negative infinity, providing an exact value. |\n",
            "\n",
            "Remember, the choice between using classification or regression methods depends on the problem at hand. Understanding the nature of the outcome and the goal of interpretation is essential when deciding which approach to use in data analysis. \n",
            "\n",
            "These tables provide a concise and structured overview of the key distinctions between classification and regression, making it easier to differentiate and comprehend the primary points of differentiation. Feel free to ask if you would like any further points elucidated! \n",
            "Human: Which one is most widely used in predicting customer churn?\n",
            "AI:  # Prediction of Customer Churn: An Overview and Recommendations\n",
            "\n",
            "The prevalence of classification analysis in predicting customer churn stems from its ability to provide actionable insights and guide business strategies. Knowing the probability of a customer opting for a competitor's offering or terminating a service contract enables organizations to proactively implement retention strategies. By engaging in personalized communications, offering incentives, or providing specific discounts, businesses can enhance their customer retention rates and reduce the likelihood of revenue loss.\n",
            "\n",
            "Classification analysis is a powerful tool for predicting customer churn and providing actionable insights for business success. By utilizing appropriate datasets and applying robust algorithms, companies can effectively address churn concerns and cultivate a loyal customer base.\n",
            "\n",
            "Please note that the importance of using actual churn datasets for modeling and ongoing monitoring, as well as the need for ongoing improvements and industry-specific considerations, for turning predictive analytics into actionable strategies that address customer churn. \n",
            "Human: Give me one more difference.\n",
            "AI:   # Fourth Difference Between Classification and Regression Models: Problem Domain and Interpretability\n",
            "\n",
            "| Difference | Classification | Regression |\n",
            "|---|---|---|\n",
            "| **Problem Domain and Interpretability** | Classification analysis is highly interpretable and provides clear insights into the probability of specific events or categories. | Regression models lend themselves well to understanding the continuous relationship between variables and can offer insights into the magnitude of effects.| \n",
            "\n",
            "This distinction makes these models more or fewer considerations based on the problem domain and the type of interpretation needed. \n"
          ]
        }
      ]
    },
    {
      "cell_type": "markdown",
      "source": [
        "##ConversationSummaryMemory"
      ],
      "metadata": {
        "id": "YxYT0Gtg8obh"
      }
    },
    {
      "cell_type": "code",
      "source": [
        "from langchain.chains.conversation.memory import ConversationSummaryMemory\n",
        "\n",
        "memory = ConversationSummaryMemory(llm=llm)\n",
        "conversation=ConversationChain(llm=llm,memory=memory)\n",
        "conversation.predict(input=\"Hello, I need help with my order\")"
      ],
      "metadata": {
        "id": "eYS7VjOclpjC",
        "colab": {
          "base_uri": "https://localhost:8080/",
          "height": 108
        },
        "outputId": "c9345605-b268-4f2d-c53a-8f75dea029c9"
      },
      "execution_count": 17,
      "outputs": [
        {
          "output_type": "stream",
          "name": "stderr",
          "text": [
            "/tmp/ipython-input-17-2164716655.py:3: LangChainDeprecationWarning: Please see the migration guide at: https://python.langchain.com/docs/versions/migrating_memory/\n",
            "  memory = ConversationSummaryMemory(llm=llm)\n"
          ]
        },
        {
          "output_type": "execute_result",
          "data": {
            "text/plain": [
              "\" Hello! I'd be happy to assist you with your order. Could you please provide me with your order number so I can look up the specific details? It would also help if you could let me know what kind of assistance you need with your order. Is it regarding the tracking status, shipping address, or something else completely? I'll do my best to guide you through the process accordingly. \\n\\nPlease let me know how I can help you further. \""
            ],
            "application/vnd.google.colaboratory.intrinsic+json": {
              "type": "string"
            }
          },
          "metadata": {},
          "execution_count": 17
        }
      ]
    },
    {
      "cell_type": "code",
      "source": [
        "conversation.predict(input=\"I've ordered a pizza.\")"
      ],
      "metadata": {
        "colab": {
          "base_uri": "https://localhost:8080/",
          "height": 72
        },
        "id": "0H5OPHOF9CeJ",
        "outputId": "321b34ae-5ce5-4668-b5e3-5fdd2e395882"
      },
      "execution_count": 18,
      "outputs": [
        {
          "output_type": "execute_result",
          "data": {
            "text/plain": [
              "\" Awesome! I'm glad to help you with your order. If you provide me with your order number, I would be happy to assist you with tracking your order and verifying the shipping address to ensure you get that pizza delivered straight to your door. If you encounter any other issues with your order, I'm here to help with that as well! \\n\\nPlease provide the order number so I can get started assisting you in any way I can. \""
            ],
            "application/vnd.google.colaboratory.intrinsic+json": {
              "type": "string"
            }
          },
          "metadata": {},
          "execution_count": 18
        }
      ]
    },
    {
      "cell_type": "code",
      "source": [
        "conversation.predict(input=\"I don't remember the order details.\")"
      ],
      "metadata": {
        "colab": {
          "base_uri": "https://localhost:8080/",
          "height": 127
        },
        "id": "0teeJcaT9RBc",
        "outputId": "d17e76c4-c4c1-4b8f-db38-aee4ee52fd5c"
      },
      "execution_count": 19,
      "outputs": [
        {
          "output_type": "execute_result",
          "data": {
            "text/plain": [
              "\" I can certainly provide you with some potential reasons for not remembering the order details. These reasons could include:\\n\\n1. Distance of time: Memories tend to fade when an event occurs distant in time. If the order was placed a significant time ago, it could contribute to challenges in recalling the specific details. \\n\\n2. Lack of retrieval cues: Memories are often triggered or aided by contextual information, such as temporal cues (e.g., season), spatial cues (e.g., location), or other related details. If you don't have any specific cues that could help retrieve the memory, the retrieval process might be hampered. \\n\\n3. Confusion with similar orders: If you have made multiple orders with similar items or in a short time frame, it could result in confusion about the specific details of each order. \\n\\n4. Attention and focus: During the time of the order placement, were you focused on something else? Distractions or diminished focus can affect memory retention. \\n\\n5. Emotions and state of mind: Memory recall can be influenced by emotional states. If there were significant emotions during the order placement, it might have impacted the encoding or later retrieval of the memory. \\n\\n6. General memory abilities: Lastly, considering any specific\""
            ],
            "application/vnd.google.colaboratory.intrinsic+json": {
              "type": "string"
            }
          },
          "metadata": {},
          "execution_count": 19
        }
      ]
    },
    {
      "cell_type": "markdown",
      "source": [
        "##ConversationEntityMemory"
      ],
      "metadata": {
        "id": "cgtVRsMt9rEX"
      }
    },
    {
      "cell_type": "code",
      "source": [
        "from langchain.chains.conversation.memory import ConversationEntityMemory\n",
        "from langchain.chains.conversation.prompt import ENTITY_MEMORY_CONVERSATION_TEMPLATE\n",
        "from langchain.prompts.prompt import PromptTemplate\n",
        "from pydantic import BaseModel,Field\n",
        "from typing import List,Optional,Dict,Any"
      ],
      "metadata": {
        "id": "MbrIxrcW9hBq"
      },
      "execution_count": 20,
      "outputs": []
    },
    {
      "cell_type": "code",
      "source": [
        "template = ENTITY_MEMORY_CONVERSATION_TEMPLATE.template\n",
        "print(template)"
      ],
      "metadata": {
        "colab": {
          "base_uri": "https://localhost:8080/"
        },
        "id": "X7z7Rs3o-SQg",
        "outputId": "f80408da-2909-4940-fe00-6a07308966a9"
      },
      "execution_count": 21,
      "outputs": [
        {
          "output_type": "stream",
          "name": "stdout",
          "text": [
            "You are an assistant to a human, powered by a large language model trained by OpenAI.\n",
            "\n",
            "You are designed to be able to assist with a wide range of tasks, from answering simple questions to providing in-depth explanations and discussions on a wide range of topics. As a language model, you are able to generate human-like text based on the input you receive, allowing you to engage in natural-sounding conversations and provide responses that are coherent and relevant to the topic at hand.\n",
            "\n",
            "You are constantly learning and improving, and your capabilities are constantly evolving. You are able to process and understand large amounts of text, and can use this knowledge to provide accurate and informative responses to a wide range of questions. You have access to some personalized information provided by the human in the Context section below. Additionally, you are able to generate your own text based on the input you receive, allowing you to engage in discussions and provide explanations and descriptions on a wide range of topics.\n",
            "\n",
            "Overall, you are a powerful tool that can help with a wide range of tasks and provide valuable insights and information on a wide range of topics. Whether the human needs help with a specific question or just wants to have a conversation about a particular topic, you are here to assist.\n",
            "\n",
            "Context:\n",
            "{entities}\n",
            "\n",
            "Current conversation:\n",
            "{history}\n",
            "Last line:\n",
            "Human: {input}\n",
            "You:\n"
          ]
        }
      ]
    },
    {
      "cell_type": "code",
      "source": [
        "memory = ConversationEntityMemory(llm=llm)\n",
        "conversation = ConversationChain(\n",
        "    llm=llm,\n",
        "    memory=memory,\n",
        "    prompt=ENTITY_MEMORY_CONVERSATION_TEMPLATE\n",
        ")\n",
        "conversation.predict(input=\"Hello, my name is Saddar U Din. I'm from Hyderabad, Pakistan. I need help with my order\")"
      ],
      "metadata": {
        "colab": {
          "base_uri": "https://localhost:8080/",
          "height": 164
        },
        "id": "1ZvQwklN-ZYr",
        "outputId": "ce3318a2-27d2-472e-96b2-c06626bb1f23"
      },
      "execution_count": 22,
      "outputs": [
        {
          "output_type": "stream",
          "name": "stderr",
          "text": [
            "/tmp/ipython-input-22-3595726221.py:1: LangChainDeprecationWarning: Please see the migration guide at: https://python.langchain.com/docs/versions/migrating_memory/\n",
            "  memory = ConversationEntityMemory(llm=llm)\n",
            "/usr/local/lib/python3.11/dist-packages/pydantic/main.py:253: LangChainDeprecationWarning: Please see the migration guide at: https://python.langchain.com/docs/versions/migrating_memory/\n",
            "  validated_self = self.__pydantic_validator__.validate_python(data, self_instance=self)\n"
          ]
        },
        {
          "output_type": "execute_result",
          "data": {
            "text/plain": [
              "\" Hello Saddar U Din! I'll be happy to help you with your order, but please provide more details so I can assist you effectively. If you provide me with any order numbers, descriptions of the items, or any specific issues you've encountered, I'll do my best to support you and resolve any problems you may be experiencing. If you have any other information regarding your order that you believe could be useful, feel free to share it with me and I will help you to the best of my abilities. \""
            ],
            "application/vnd.google.colaboratory.intrinsic+json": {
              "type": "string"
            }
          },
          "metadata": {},
          "execution_count": 22
        }
      ]
    },
    {
      "cell_type": "code",
      "source": [
        "conversation.predict(input=\"I ordered Mobile Phone on Tuesday night 8 pm\")"
      ],
      "metadata": {
        "colab": {
          "base_uri": "https://localhost:8080/",
          "height": 126
        },
        "id": "FeD7R9FT_S-a",
        "outputId": "965b1b5d-3c6b-4363-e19f-d142e5650900"
      },
      "execution_count": 23,
      "outputs": [
        {
          "output_type": "execute_result",
          "data": {
            "text/plain": [
              "\" Thank you for providing more details about your order, Saddar U Din! Based on the information you've provided, it sounds like you placed an order for a mobile phone on Tuesday night at 8pm. If you have provided any specific instructions with your order or have references to the order number, include that in your reply as well! \\n\\nI understand that you may be experiencing some issues with your order, and I want to help you resolve them as soon as possible. Please provide any further details or concerns you may have regarding your order, and I will do my best to assist you promptly and provide you with the help you need. \\n\\nI appreciate your patience as we work through this together, and I look forward to resolving the issues with your order for you. Please reach out if there is anything else I can help with and let me know if you have any further questions or concerns about your order. \""
            ],
            "application/vnd.google.colaboratory.intrinsic+json": {
              "type": "string"
            }
          },
          "metadata": {},
          "execution_count": 23
        }
      ]
    },
    {
      "cell_type": "code",
      "source": [
        "conversation.predict(input=\"My order number is IBLC19678456. What is the status of my order?\")"
      ],
      "metadata": {
        "colab": {
          "base_uri": "https://localhost:8080/",
          "height": 127
        },
        "id": "O_cR5T1H_eLN",
        "outputId": "382b9d99-66c9-45aa-85c6-37ec7d829f46"
      },
      "execution_count": 24,
      "outputs": [
        {
          "output_type": "execute_result",
          "data": {
            "text/plain": [
              "\" Thank you for providing the order number, Saddar U Din. Let's see if we can figure out the status of your order. Please wait as I search for any information regarding the status of your order with the order number you provided. \\n\\nUnfortunately, this AI model cannot process real-time data or connect to logistics databases to track your order status. It is designed to engage in safe conversations with humans and lacks the capability to access real-time information. I can, however, assist you with possible scenarios and the next steps based on the average time for order fulfillment. \\n\\nThe fulfillment time will depend on various factors such as inventory availability, shipping distance, and logistics processes of the supplier. Based on standard timelines, if the expected delivery time has passed without receipt of the order, it is recommended to contact the order provider directly via phone or email for immediate assistance. Remember to have your order number handy when contacting them to expedite the support process. \\n\\nIt is advisable to reach out to the customer support team to get precise information about the order status and to swiftly resolve any issues you may be currently facing. \\n\\nI hope you were able to get assistance from the order provider and that you have received your mobile phone without any issues. If you have any further\""
            ],
            "application/vnd.google.colaboratory.intrinsic+json": {
              "type": "string"
            }
          },
          "metadata": {},
          "execution_count": 24
        }
      ]
    },
    {
      "cell_type": "code",
      "source": [
        "conversation.memory.entity_store"
      ],
      "metadata": {
        "colab": {
          "base_uri": "https://localhost:8080/"
        },
        "id": "jh-ryqnu_nIC",
        "outputId": "426f26ec-6d53-4499-d889-6b2877e8090a"
      },
      "execution_count": 25,
      "outputs": [
        {
          "output_type": "execute_result",
          "data": {
            "text/plain": [
              "InMemoryEntityStore(store={'Saddar U Din': 'Saddar U Din is a male who is from Hyderabad, Pakistan. He ordered a mobile phone on Tuesday night at 8 pm. His order number is IBLC19678456 and he has been advised by the AI assistant to contact the customer support team of the order provider to get precise information about the order status as the AI model is unable to process real-time data or access order status databases.', 'Hyderabad': 'Hyderabad is a city in Pakistan where Saddar U Din placed an order for a mobile phone on Tuesday night at 8 pm from a local provider. The order was associated with some issues, and he contacted the AI assistant for help, providing the order number IBLC19678456 for status clarification.', 'Pakistan': 'Pakistan is a country that is home to the city of Hyderabad, where Saddar U Din is from. Hyderabad has a lively atmosphere and rich cultural heritage. It is known for its historical landmarks and vibrant bazaars. Saddar U Din placed an order for a mobile phone on Tuesday night at 8 pm from Pakistan. The order number is IBLC19678456, and it is recommended to contact the order provider directly if the expected delivery time has passed without receipt of the order.', 'Mobile Phone': 'Mobile Phone is an item that Saddar U Din ordered on Tuesday 8pm.', 'Tuesday': 'Tuesday is the day Saddar U Din ordered a mobile phone.', 'IBLC19678456': 'Order number IBLC19678456 was placed on Tuesday night for a mobile phone. As of now, AI is unable to track the real-time status of the order for Saddar U Din, as it is unable to connect to logistics databases. Based on the typical fulfillment timelines, if the expected delivery time has passed, it is recommended to reach out to the order provider via customer support, equipped with this order number, to get assistance and resolve any potential issues customer might be facing.'})"
            ]
          },
          "metadata": {},
          "execution_count": 25
        }
      ]
    },
    {
      "cell_type": "markdown",
      "source": [
        "##Building Simple Chatbot"
      ],
      "metadata": {
        "id": "ImmiFOuhAHNV"
      }
    },
    {
      "cell_type": "code",
      "source": [
        "user_input = (\"User Input: \")\n",
        "llm = Cohere(temperature=0.9)\n",
        "memory=ConversationBufferMemory()\n",
        "conversation = ConversationChain(\n",
        "    llm=llm,\n",
        "    memory=memory\n",
        ")\n",
        "while user_input!='quit':\n",
        "  print(\"AI Message: \",conversation.predict(input=user_input))\n",
        "  user_input = input(\"User Input: \")\n",
        "\n",
        "if user_input=='quit':\n",
        "  memory.clear()\n",
        "  print(\"Thanks for using AI Chatbot!\")"
      ],
      "metadata": {
        "colab": {
          "base_uri": "https://localhost:8080/"
        },
        "id": "GXAk4ah2_wh9",
        "outputId": "8c5926d1-a800-4f41-8c63-93826b962a58"
      },
      "execution_count": 26,
      "outputs": [
        {
          "output_type": "stream",
          "name": "stdout",
          "text": [
            "AI Message:   I'm here to assist you in any way I can, and I'm happy to provide helpful and harmless responses. If there's something specific you'd like to know or discuss, feel free to let me know, and I'll do my best to understanding and providing meaningful answers to your queries. \n",
            "\n",
            "Please let me know if there's anything you need assistance with?\n",
            "User Input: Who is head coach of Pakistan Cricket team?\n",
            "AI Message:   Sorry, I do not know who is the head coach of the Pakistan cricket team. I can provide information on various topics if you like however I do not have real-time accurate information on sports coaches unless it is a popular figure such as Messi who is unlikely to be the head coach of a country's cricket team. \n",
            "User Input: What is data Science?\n",
            "AI Message:   Data science is a multidisciplinary field that combines principles of computer science, statistics and mathematics to analyze and interpret tangible structured and unstructured data, forming useful insights and informing decision-making. It utilizes various scientific methods, techniques, and algorithms to uncover patterns, relationships, and trends within data, and fosters a systematic approach to extract meaningful information from large datasets.\n",
            "\n",
            "Data science brings together diverse techniques, including data mining, forecasting, natural language processing, optimization, and prediction models. These methodologies are utilized to analyze datasets and acquire a comprehensive understanding of the data's essence. Data science also encompasses data visualization techniques, which play a crucial role in visually representing complexities inherent in the data, aiding in comprehension and interpretation. \n",
            "\n",
            "This evolving field has myriad applications in contemporary societies, predominantly within sectors like finance, healthcare, marketing, and technology. Data scientists are instrumental in shaping strategic decisions, aiding organizations and businesses in harnessing the power of data and leveraging it to attain favorable outcomes. \n",
            "\n",
            "Given the ever-increasing quantity of generated data and the ongoing necessity for adept analysis and interpretation, the importance of data science continues to ascend, and it remains a vital discipline in the modern technological world. \n",
            "\n",
            "If you'd like further insight into the domain, please don't hesitate to ask! \n",
            "User Input: Can you differentiate between AI and Automation in simple terms?\n",
            "AI Message:   Certainly! Although AI and automation are closely related, they have distinct characteristics and differences. \n",
            "\n",
            "**AI:**\n",
            "Artificial Intelligence refers to the science of creating intelligent machines that can mimic human intelligence and perform tasks that typically require human-like decision-making, pattern recognition, and problem-solving. AI aims to create systems that can think, learn, and adapt on their own, improving their performance through experience and self-adjustment.\n",
            "\n",
            "**Automation:**\n",
            "Automation, on the other hand, refers to the process of minimizing or eliminating human involvement in tasks by using machinery, software, or other technology. It focuses on streamlining repetitive and tedious tasks by using predetermined rules, sequences, or algorithms. The goal of automation is to reduce manual effort, increase efficiency, and minimize errors in various processes.\n",
            "\n",
            "Here's a simple analogy: AI is like having a smart assistant who can think and learn on their own, while automation is like having a helper who follows your instructions precisely.\n",
            "\n",
            "AI encompasses creating intelligent systems through machine learning and neural networks, enabling them to interpret data, make predictions, or generate novel outputs. Automation, however, encompasses the application of technological components to eliminate human labor, often in a repetitive context, with a focus on efficiency improvements. Although AI can\n",
            "User Input: quit\n",
            "Thanks for using AI Chatbot!\n"
          ]
        }
      ]
    },
    {
      "cell_type": "markdown",
      "source": [
        "#Example with RAG, Memory and Conversation"
      ],
      "metadata": {
        "id": "dS1U2RpkUZ2B"
      }
    },
    {
      "cell_type": "code",
      "source": [
        "!pip install pypdf --quiet"
      ],
      "metadata": {
        "colab": {
          "base_uri": "https://localhost:8080/"
        },
        "id": "5XZS_mDrTz9G",
        "outputId": "3fcd3905-37e3-4848-9f6d-79d9b02ccdc4"
      },
      "execution_count": 27,
      "outputs": [
        {
          "output_type": "stream",
          "name": "stdout",
          "text": [
            "\u001b[?25l   \u001b[90m━━━━━━━━━━━━━━━━━━━━━━━━━━━━━━━━━━━━━━━━\u001b[0m \u001b[32m0.0/305.5 kB\u001b[0m \u001b[31m?\u001b[0m eta \u001b[36m-:--:--\u001b[0m\r\u001b[2K   \u001b[91m━━━━━━━━━\u001b[0m\u001b[90m╺\u001b[0m\u001b[90m━━━━━━━━━━━━━━━━━━━━━━━━━━━━━━\u001b[0m \u001b[32m71.7/305.5 kB\u001b[0m \u001b[31m2.5 MB/s\u001b[0m eta \u001b[36m0:00:01\u001b[0m\r\u001b[2K   \u001b[90m━━━━━━━━━━━━━━━━━━━━━━━━━━━━━━━━━━━━━━━━\u001b[0m \u001b[32m305.5/305.5 kB\u001b[0m \u001b[31m4.6 MB/s\u001b[0m eta \u001b[36m0:00:00\u001b[0m\n",
            "\u001b[?25h"
          ]
        }
      ]
    },
    {
      "cell_type": "code",
      "source": [
        "from langchain.chains import ConversationalRetrievalChain\n",
        "from langchain.document_loaders import TextLoader,PyPDFLoader\n",
        "from langchain.embeddings import CohereEmbeddings\n",
        "from langchain.llms import Cohere\n",
        "from langchain.memory import ConversationBufferMemory\n",
        "from langchain.text_splitter import RecursiveCharacterTextSplitter\n",
        "from langchain.vectorstores import Chroma\n",
        "import glob"
      ],
      "metadata": {
        "id": "qVVOEDNsUue1"
      },
      "execution_count": 28,
      "outputs": []
    },
    {
      "cell_type": "markdown",
      "source": [
        "##Step-1: Data Importing"
      ],
      "metadata": {
        "id": "tdgUSLKwVeC5"
      }
    },
    {
      "cell_type": "code",
      "source": [
        "!wget https://raw.githubusercontent.com/venkatareddykonasani/Datasets/master/CIBIL_Report/All_Cibil_Docs.zip\n",
        "#Unzip and Overwrite\n",
        "!unzip -o All_Cibil_Docs.zip -d All_Docs_Set1\n",
        "#listdown all documents content/All_Docs_Set1 and store them\n",
        "pdf_files = glob.glob(\"All_Docs_Set1/*.pdf\")\n",
        "print(pdf_files)"
      ],
      "metadata": {
        "colab": {
          "base_uri": "https://localhost:8080/"
        },
        "id": "vQ-FAKbyVb99",
        "outputId": "1d5d3c00-36bf-4ba6-9fab-e4a46c8af838"
      },
      "execution_count": 29,
      "outputs": [
        {
          "output_type": "stream",
          "name": "stdout",
          "text": [
            "--2025-07-03 08:10:58--  https://raw.githubusercontent.com/venkatareddykonasani/Datasets/master/CIBIL_Report/All_Cibil_Docs.zip\n",
            "Resolving raw.githubusercontent.com (raw.githubusercontent.com)... 185.199.108.133, 185.199.110.133, 185.199.111.133, ...\n",
            "Connecting to raw.githubusercontent.com (raw.githubusercontent.com)|185.199.108.133|:443... connected.\n",
            "HTTP request sent, awaiting response... 200 OK\n",
            "Length: 2818524 (2.7M) [application/zip]\n",
            "Saving to: ‘All_Cibil_Docs.zip’\n",
            "\n",
            "All_Cibil_Docs.zip  100%[===================>]   2.69M  8.36MB/s    in 0.3s    \n",
            "\n",
            "2025-07-03 08:10:59 (8.36 MB/s) - ‘All_Cibil_Docs.zip’ saved [2818524/2818524]\n",
            "\n",
            "Archive:  All_Cibil_Docs.zip\n",
            "  inflating: All_Docs_Set1/5787-15251-1-PB.pdf  \n",
            "  inflating: All_Docs_Set1/CIBIL Score in India.pdf  \n",
            "  inflating: All_Docs_Set1/creditscoretips_2.pdf  \n",
            "  inflating: All_Docs_Set1/MyCIBIL-Understanding.pdf  \n",
            "  inflating: All_Docs_Set1/understanding-cir-ctc.pdf  \n",
            "['All_Docs_Set1/MyCIBIL-Understanding.pdf', 'All_Docs_Set1/creditscoretips_2.pdf', 'All_Docs_Set1/understanding-cir-ctc.pdf', 'All_Docs_Set1/5787-15251-1-PB.pdf', 'All_Docs_Set1/CIBIL Score in India.pdf']\n"
          ]
        }
      ]
    },
    {
      "cell_type": "code",
      "source": [
        "full_text=\"\"\n",
        "for pdf in pdf_files:\n",
        "  loader = PyPDFLoader(pdf)\n",
        "  pages=loader.load()\n",
        "  print(pdf,len(pages))\n",
        "  for page in pages:\n",
        "    full_text += page.page_content"
      ],
      "metadata": {
        "colab": {
          "base_uri": "https://localhost:8080/"
        },
        "id": "J5R_WCGiVsCF",
        "outputId": "526aabd0-5fce-468c-b912-d053211bf604"
      },
      "execution_count": 30,
      "outputs": [
        {
          "output_type": "stream",
          "name": "stdout",
          "text": [
            "All_Docs_Set1/MyCIBIL-Understanding.pdf 4\n",
            "All_Docs_Set1/creditscoretips_2.pdf 1\n",
            "All_Docs_Set1/understanding-cir-ctc.pdf 3\n",
            "All_Docs_Set1/5787-15251-1-PB.pdf 12\n",
            "All_Docs_Set1/CIBIL Score in India.pdf 7\n"
          ]
        }
      ]
    },
    {
      "cell_type": "markdown",
      "source": [
        "##Step-2: Split the data into chunks"
      ],
      "metadata": {
        "id": "gBvKHhv3W9Us"
      }
    },
    {
      "cell_type": "code",
      "source": [
        "text_splitter = RecursiveCharacterTextSplitter(chunk_size=300,chunk_overlap=60)\n",
        "chunks = text_splitter.split_text(full_text)\n",
        "print(len(chunks))\n",
        "print(chunks[0])"
      ],
      "metadata": {
        "colab": {
          "base_uri": "https://localhost:8080/"
        },
        "id": "7fDPnn-SWziq",
        "outputId": "81c836e3-3c59-4342-c442-844ec508c8f9"
      },
      "execution_count": 31,
      "outputs": [
        {
          "output_type": "stream",
          "name": "stdout",
          "text": [
            "292\n",
            "Where You Stand\n",
            "This section illustrates, in the form of 5 \n",
            "different bands, where you stand on the \n",
            "basis of your CIBIL Score when \n",
            "compared to other consumers who also \n",
            "have a CIBIL Score. For example, if your \n",
            "score is 830, you are amongst the 19% of \n",
            "consumer who have a CIBIL Score in the\n"
          ]
        }
      ]
    },
    {
      "cell_type": "markdown",
      "source": [
        "##Step-3: Creating Embeddings & Storing into Vector Stores\n"
      ],
      "metadata": {
        "id": "vVPfYG8iXZ_l"
      }
    },
    {
      "cell_type": "code",
      "source": [
        "!pip install ChromaDB --quiet"
      ],
      "metadata": {
        "colab": {
          "base_uri": "https://localhost:8080/"
        },
        "id": "3zWPTgqYXU5I",
        "outputId": "78f85835-0cfd-44c8-c3b1-445a4b6f95f8"
      },
      "execution_count": 32,
      "outputs": [
        {
          "output_type": "stream",
          "name": "stdout",
          "text": [
            "\u001b[?25l     \u001b[90m━━━━━━━━━━━━━━━━━━━━━━━━━━━━━━━━━━━━━━━━\u001b[0m \u001b[32m0.0/67.3 kB\u001b[0m \u001b[31m?\u001b[0m eta \u001b[36m-:--:--\u001b[0m\r\u001b[2K     \u001b[91m━━━━━━━━━━━━━━━━━━━━━━━━━━━━━━━━━━━━\u001b[0m\u001b[91m╸\u001b[0m\u001b[90m━━━\u001b[0m \u001b[32m61.4/67.3 kB\u001b[0m \u001b[31m2.2 MB/s\u001b[0m eta \u001b[36m0:00:01\u001b[0m\r\u001b[2K     \u001b[90m━━━━━━━━━━━━━━━━━━━━━━━━━━━━━━━━━━━━━━━━\u001b[0m \u001b[32m67.3/67.3 kB\u001b[0m \u001b[31m1.6 MB/s\u001b[0m eta \u001b[36m0:00:00\u001b[0m\n",
            "\u001b[?25h  Installing build dependencies ... \u001b[?25l\u001b[?25hdone\n",
            "  Getting requirements to build wheel ... \u001b[?25l\u001b[?25hdone\n",
            "  Preparing metadata (pyproject.toml) ... \u001b[?25l\u001b[?25hdone\n",
            "\u001b[2K   \u001b[90m━━━━━━━━━━━━━━━━━━━━━━━━━━━━━━━━━━━━━━━━\u001b[0m \u001b[32m19.5/19.5 MB\u001b[0m \u001b[31m28.7 MB/s\u001b[0m eta \u001b[36m0:00:00\u001b[0m\n",
            "\u001b[2K   \u001b[90m━━━━━━━━━━━━━━━━━━━━━━━━━━━━━━━━━━━━━━━━\u001b[0m \u001b[32m284.2/284.2 kB\u001b[0m \u001b[31m9.1 MB/s\u001b[0m eta \u001b[36m0:00:00\u001b[0m\n",
            "\u001b[2K   \u001b[90m━━━━━━━━━━━━━━━━━━━━━━━━━━━━━━━━━━━━━━━━\u001b[0m \u001b[32m1.9/1.9 MB\u001b[0m \u001b[31m45.6 MB/s\u001b[0m eta \u001b[36m0:00:00\u001b[0m\n",
            "\u001b[2K   \u001b[90m━━━━━━━━━━━━━━━━━━━━━━━━━━━━━━━━━━━━━━━━\u001b[0m \u001b[32m101.6/101.6 kB\u001b[0m \u001b[31m6.0 MB/s\u001b[0m eta \u001b[36m0:00:00\u001b[0m\n",
            "\u001b[2K   \u001b[90m━━━━━━━━━━━━━━━━━━━━━━━━━━━━━━━━━━━━━━━━\u001b[0m \u001b[32m16.4/16.4 MB\u001b[0m \u001b[31m35.2 MB/s\u001b[0m eta \u001b[36m0:00:00\u001b[0m\n",
            "\u001b[2K   \u001b[90m━━━━━━━━━━━━━━━━━━━━━━━━━━━━━━━━━━━━━━━━\u001b[0m \u001b[32m65.8/65.8 kB\u001b[0m \u001b[31m4.5 MB/s\u001b[0m eta \u001b[36m0:00:00\u001b[0m\n",
            "\u001b[2K   \u001b[90m━━━━━━━━━━━━━━━━━━━━━━━━━━━━━━━━━━━━━━━━\u001b[0m \u001b[32m55.7/55.7 kB\u001b[0m \u001b[31m4.1 MB/s\u001b[0m eta \u001b[36m0:00:00\u001b[0m\n",
            "\u001b[2K   \u001b[90m━━━━━━━━━━━━━━━━━━━━━━━━━━━━━━━━━━━━━━━━\u001b[0m \u001b[32m118.5/118.5 kB\u001b[0m \u001b[31m8.9 MB/s\u001b[0m eta \u001b[36m0:00:00\u001b[0m\n",
            "\u001b[2K   \u001b[90m━━━━━━━━━━━━━━━━━━━━━━━━━━━━━━━━━━━━━━━━\u001b[0m \u001b[32m196.2/196.2 kB\u001b[0m \u001b[31m14.3 MB/s\u001b[0m eta \u001b[36m0:00:00\u001b[0m\n",
            "\u001b[2K   \u001b[90m━━━━━━━━━━━━━━━━━━━━━━━━━━━━━━━━━━━━━━━━\u001b[0m \u001b[32m105.4/105.4 kB\u001b[0m \u001b[31m7.9 MB/s\u001b[0m eta \u001b[36m0:00:00\u001b[0m\n",
            "\u001b[2K   \u001b[90m━━━━━━━━━━━━━━━━━━━━━━━━━━━━━━━━━━━━━━━━\u001b[0m \u001b[32m71.2/71.2 kB\u001b[0m \u001b[31m5.0 MB/s\u001b[0m eta \u001b[36m0:00:00\u001b[0m\n",
            "\u001b[2K   \u001b[90m━━━━━━━━━━━━━━━━━━━━━━━━━━━━━━━━━━━━━━━━\u001b[0m \u001b[32m459.8/459.8 kB\u001b[0m \u001b[31m27.2 MB/s\u001b[0m eta \u001b[36m0:00:00\u001b[0m\n",
            "\u001b[2K   \u001b[90m━━━━━━━━━━━━━━━━━━━━━━━━━━━━━━━━━━━━━━━━\u001b[0m \u001b[32m4.0/4.0 MB\u001b[0m \u001b[31m92.1 MB/s\u001b[0m eta \u001b[36m0:00:00\u001b[0m\n",
            "\u001b[2K   \u001b[90m━━━━━━━━━━━━━━━━━━━━━━━━━━━━━━━━━━━━━━━━\u001b[0m \u001b[32m453.1/453.1 kB\u001b[0m \u001b[31m30.4 MB/s\u001b[0m eta \u001b[36m0:00:00\u001b[0m\n",
            "\u001b[2K   \u001b[90m━━━━━━━━━━━━━━━━━━━━━━━━━━━━━━━━━━━━━━━━\u001b[0m \u001b[32m46.0/46.0 kB\u001b[0m \u001b[31m3.2 MB/s\u001b[0m eta \u001b[36m0:00:00\u001b[0m\n",
            "\u001b[2K   \u001b[90m━━━━━━━━━━━━━━━━━━━━━━━━━━━━━━━━━━━━━━━━\u001b[0m \u001b[32m86.8/86.8 kB\u001b[0m \u001b[31m6.4 MB/s\u001b[0m eta \u001b[36m0:00:00\u001b[0m\n",
            "\u001b[?25h  Building wheel for pypika (pyproject.toml) ... \u001b[?25l\u001b[?25hdone\n"
          ]
        }
      ]
    },
    {
      "cell_type": "code",
      "source": [
        "embeddings = CohereEmbeddings(user_agent=\"langchain\")\n",
        "cibil_db = Chroma.from_texts(\n",
        "    chunks,\n",
        "    embeddings,\n",
        "    persist_directory=\"./cibil_db\"\n",
        ")"
      ],
      "metadata": {
        "id": "afTUeWt7Xw2N"
      },
      "execution_count": 37,
      "outputs": []
    },
    {
      "cell_type": "code",
      "source": [
        "retriever = cibil_db.as_retriever()\n",
        "result = retriever.get_relevant_documents(query=\"What is the Cibil Score?\")\n",
        "for i in range(len(result)):\n",
        "  print(result[i].page_content)"
      ],
      "metadata": {
        "colab": {
          "base_uri": "https://localhost:8080/"
        },
        "id": "PI41wQtNX8yw",
        "outputId": "3919dea2-f453-40b7-c99f-76bfdfc9c6fb"
      },
      "execution_count": 38,
      "outputs": [
        {
          "output_type": "stream",
          "name": "stderr",
          "text": [
            "/tmp/ipython-input-38-3206360893.py:2: LangChainDeprecationWarning: The method `BaseRetriever.get_relevant_documents` was deprecated in langchain-core 0.1.46 and will be removed in 1.0. Use :meth:`~invoke` instead.\n",
            "  result = retriever.get_relevant_documents(query=\"What is the Cibil Score?\")\n"
          ]
        },
        {
          "output_type": "stream",
          "name": "stdout",
          "text": [
            "plays a crucial role in the lending process, influencing lenders' decisions on whether \n",
            "to extend credit to a prospective borrower. \n",
            "2. What is CIBIL Score? \n",
            "A CIBIL Score is a three-digit number, ranging from 300 to 900, that reflects a\n",
            "which is widely used by loan providers to \n",
            "evaluate loan applications. An individual’s \n",
            "CIBIL Score ranges between 300-900 \n",
            "and is calculated basis the information in \n",
            "the “Accounts” and “Enquiry” section of \n",
            "the credit report. The closer the score to \n",
            "900, the more confidence the loan\n",
            "View publication statsCIBIL Score in India: Part 1 - \n",
            "Understanding the Basics \n",
            "1. Introduction to CIBIL Score \n",
            "The CIBIL Score, developed by the Credit Information Bureau (India) Limited (now \n",
            "TransUnion CIBIL), is a numerical representation of an individual's creditworthiness. It\n",
            "Credit EducationWhat is a CIBIL Score?\n",
            "CIBIL Score is a 3 digit numeric summary of your credit history, derived by using details found in the ‘Accounts’ and ‘Enquiries’ \n",
            "sections on your CIBIL Report and ranges from 300 to 900. The closer your score is to 900, the higher are the chances of your\n"
          ]
        }
      ]
    },
    {
      "cell_type": "markdown",
      "source": [
        "##Step-4: Converesation and Retrieval Chain"
      ],
      "metadata": {
        "id": "Y6t8T_GiZoY9"
      }
    },
    {
      "cell_type": "code",
      "source": [
        "from langchain.chat_models import cohere\n",
        "from langchain.llms import Cohere"
      ],
      "metadata": {
        "id": "kXM6bG9zZfTN"
      },
      "execution_count": 39,
      "outputs": []
    },
    {
      "cell_type": "code",
      "source": [
        "llm = Cohere(temperature=0)\n",
        "memory = ConversationBufferMemory(memory_key='chat_history',return_messages=True)\n",
        "conversational_rag = ConversationalRetrievalChain.from_llm(\n",
        "    llm=llm,\n",
        "    retriever=retriever,\n",
        "    memory=memory\n",
        ")"
      ],
      "metadata": {
        "id": "URe4dEo3Z4gC"
      },
      "execution_count": 40,
      "outputs": []
    },
    {
      "cell_type": "markdown",
      "source": [
        "##Step-5: Conversation"
      ],
      "metadata": {
        "id": "lhGEt9N8aXbh"
      }
    },
    {
      "cell_type": "code",
      "source": [
        "response = conversational_rag({\"question\": \"What is the Cibil Score?\"})\n",
        "response"
      ],
      "metadata": {
        "colab": {
          "base_uri": "https://localhost:8080/"
        },
        "id": "PC0b_Z43aVdA",
        "outputId": "9b8b40ba-117c-4f58-8516-3c475bcdc49c"
      },
      "execution_count": 41,
      "outputs": [
        {
          "output_type": "stream",
          "name": "stderr",
          "text": [
            "/tmp/ipython-input-41-2135095096.py:1: LangChainDeprecationWarning: The method `Chain.__call__` was deprecated in langchain 0.1.0 and will be removed in 1.0. Use :meth:`~invoke` instead.\n",
            "  response = conversational_rag({\"question\": \"What is the Cibil Score?\"})\n"
          ]
        },
        {
          "output_type": "execute_result",
          "data": {
            "text/plain": [
              "{'question': 'What is the Cibil Score?',\n",
              " 'chat_history': [HumanMessage(content='What is the Cibil Score?', additional_kwargs={}, response_metadata={}),\n",
              "  AIMessage(content=' The CIBIL score is a numerical representation of an individual\\'s creditworthiness. It is a three-digit number ranging from 300 to 900, with close to 900 being the most desirable score. The score is derived by using information found in the individual\\'s credit report under the \"Accounts\" and \"Enquiries\" sections as created by the Credit Information Bureau (India) Limited (CIBIL). Lenders use this score to evaluate credit applications and determine whether or not to extend credit to a prospective borrower. \\n\\nDoes any of this information help you understand what a CIBIL score is, or can I provide you with more information to assist with understanding this concept? \\n\\nI am unable to provide information on how to obtain a CIBIL score if you are asking from a personal standpoint as I am an AI-assistant trained to be a helpful and harmless chatbot. If you are interested in obtaining your score, it may be best to search for directions on obtaining the score from a personal perspective on a search engine of your choice. ', additional_kwargs={}, response_metadata={})],\n",
              " 'answer': ' The CIBIL score is a numerical representation of an individual\\'s creditworthiness. It is a three-digit number ranging from 300 to 900, with close to 900 being the most desirable score. The score is derived by using information found in the individual\\'s credit report under the \"Accounts\" and \"Enquiries\" sections as created by the Credit Information Bureau (India) Limited (CIBIL). Lenders use this score to evaluate credit applications and determine whether or not to extend credit to a prospective borrower. \\n\\nDoes any of this information help you understand what a CIBIL score is, or can I provide you with more information to assist with understanding this concept? \\n\\nI am unable to provide information on how to obtain a CIBIL score if you are asking from a personal standpoint as I am an AI-assistant trained to be a helpful and harmless chatbot. If you are interested in obtaining your score, it may be best to search for directions on obtaining the score from a personal perspective on a search engine of your choice. '}"
            ]
          },
          "metadata": {},
          "execution_count": 41
        }
      ]
    },
    {
      "cell_type": "code",
      "source": [
        "response['answer']"
      ],
      "metadata": {
        "colab": {
          "base_uri": "https://localhost:8080/",
          "height": 127
        },
        "id": "vLFAhoFra4jt",
        "outputId": "ec480883-6d4b-4f58-ddba-8bad62898154"
      },
      "execution_count": 42,
      "outputs": [
        {
          "output_type": "execute_result",
          "data": {
            "text/plain": [
              "' The CIBIL score is a numerical representation of an individual\\'s creditworthiness. It is a three-digit number ranging from 300 to 900, with close to 900 being the most desirable score. The score is derived by using information found in the individual\\'s credit report under the \"Accounts\" and \"Enquiries\" sections as created by the Credit Information Bureau (India) Limited (CIBIL). Lenders use this score to evaluate credit applications and determine whether or not to extend credit to a prospective borrower. \\n\\nDoes any of this information help you understand what a CIBIL score is, or can I provide you with more information to assist with understanding this concept? \\n\\nI am unable to provide information on how to obtain a CIBIL score if you are asking from a personal standpoint as I am an AI-assistant trained to be a helpful and harmless chatbot. If you are interested in obtaining your score, it may be best to search for directions on obtaining the score from a personal perspective on a search engine of your choice. '"
            ],
            "application/vnd.google.colaboratory.intrinsic+json": {
              "type": "string"
            }
          },
          "metadata": {},
          "execution_count": 42
        }
      ]
    },
    {
      "cell_type": "code",
      "source": [],
      "metadata": {
        "id": "QoxPB7I2bGp9"
      },
      "execution_count": null,
      "outputs": []
    }
  ]
}
