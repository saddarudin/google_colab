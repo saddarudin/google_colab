{
  "nbformat": 4,
  "nbformat_minor": 0,
  "metadata": {
    "colab": {
      "provenance": [],
      "authorship_tag": "ABX9TyPQjdUjoZp99AiO3PGgaJbB",
      "include_colab_link": true
    },
    "kernelspec": {
      "name": "python3",
      "display_name": "Python 3"
    },
    "language_info": {
      "name": "python"
    }
  },
  "cells": [
    {
      "cell_type": "markdown",
      "metadata": {
        "id": "view-in-github",
        "colab_type": "text"
      },
      "source": [
        "<a href=\"https://colab.research.google.com/github/saddarudin/google_colab/blob/main/nlp_regex.ipynb\" target=\"_parent\"><img src=\"https://colab.research.google.com/assets/colab-badge.svg\" alt=\"Open In Colab\"/></a>"
      ]
    },
    {
      "cell_type": "code",
      "execution_count": 1,
      "metadata": {
        "id": "x7OJBrlhUvGu"
      },
      "outputs": [],
      "source": [
        "import re"
      ]
    },
    {
      "cell_type": "markdown",
      "source": [
        "### Regular Expression for pattern matching"
      ],
      "metadata": {
        "id": "6eyGl68wdQjP"
      }
    },
    {
      "cell_type": "code",
      "source": [
        "chat1 = 'codebasics: you ask lot of questions🤨 1234567890, abc123@xyz.com'\n",
        "chat2 = 'codebasics: here it is: (123)-567-8912, james.a.garfield@examplepetstore.com'\n",
        "chat3 = 'codebasics: yes, phone: 1234567890 email: abc_222@xyz.com'"
      ],
      "metadata": {
        "id": "MKluowH7UyT_"
      },
      "execution_count": 10,
      "outputs": []
    },
    {
      "cell_type": "code",
      "source": [
        "phone_pattern = \"\\d{10}|\\(\\d{3}\\)-\\d{3}-\\d{4}\"\n",
        "email_pattern = \"[a-zA-z0-9_.]*@[a-zA-z0-9_.]*\\.[a-zA-Z]*\"\n",
        "re.findall(phone_pattern,chat3)"
      ],
      "metadata": {
        "colab": {
          "base_uri": "https://localhost:8080/"
        },
        "id": "C_TZIU_GWJox",
        "outputId": "5b7a4977-e06d-41f5-f2f6-d43a1a082f82"
      },
      "execution_count": 11,
      "outputs": [
        {
          "output_type": "execute_result",
          "data": {
            "text/plain": [
              "['1234567890']"
            ]
          },
          "metadata": {},
          "execution_count": 11
        }
      ]
    },
    {
      "cell_type": "code",
      "source": [
        "re.findall(email_pattern,chat1),re.findall(email_pattern,chat2),re.findall(email_pattern,chat3)"
      ],
      "metadata": {
        "colab": {
          "base_uri": "https://localhost:8080/"
        },
        "id": "nKmjoAx5W39Y",
        "outputId": "32a77cb9-d4fb-4174-e738-1325f65cd385"
      },
      "execution_count": 23,
      "outputs": [
        {
          "output_type": "execute_result",
          "data": {
            "text/plain": [
              "(['abc123@xyz.com'],\n",
              " ['james.a.garfield@examplepetstore.com'],\n",
              " ['abc_222@xyz.com'])"
            ]
          },
          "metadata": {},
          "execution_count": 23
        }
      ]
    },
    {
      "cell_type": "code",
      "source": [
        "chat4 = 'codebasics: Hello, I am having an issue with my order # 412889912'\n",
        "chat5 = 'codebasics: I have a problem with my order number 412889912'\n",
        "chat6 = 'codebasics: My order 412889912 is having an issue, I was charged 300$ when online it says 280$'"
      ],
      "metadata": {
        "id": "M9ke4cMYaqnS"
      },
      "execution_count": 13,
      "outputs": []
    },
    {
      "cell_type": "markdown",
      "source": [
        "### Matching pattern for order no, order number, order etc"
      ],
      "metadata": {
        "id": "BduUbAFlbXYD"
      }
    },
    {
      "cell_type": "code",
      "source": [
        "order_pattern = 'order[^\\d]*(\\d*)'\n",
        "# () this bracket in regular expression is used to get that specifit part which is in bracket\n",
        "re.findall(order_pattern,chat4),re.findall(order_pattern,chat5),re.findall(order_pattern,chat6)"
      ],
      "metadata": {
        "colab": {
          "base_uri": "https://localhost:8080/"
        },
        "id": "VPudxJPrbWaE",
        "outputId": "6551c726-3d88-4a7d-d47c-9587595d364c"
      },
      "execution_count": 14,
      "outputs": [
        {
          "output_type": "execute_result",
          "data": {
            "text/plain": [
              "(['412889912'], ['412889912'], ['412889912'])"
            ]
          },
          "metadata": {},
          "execution_count": 14
        }
      ]
    },
    {
      "cell_type": "markdown",
      "source": [
        "## Now Regular Expressions for Extracting Information"
      ],
      "metadata": {
        "id": "fKcSW6V_dWNF"
      }
    },
    {
      "cell_type": "code",
      "source": [
        "text = '''\n",
        "Born Elon Reeve Musk\n",
        "June 28, 1971 (age 50)\n",
        "Pretoria, Transvaal, South Africa\n",
        "Citizenship\n",
        "South Africa (1971–present)\n",
        "Canada (1971–present)\n",
        "United States (2002–present)\n",
        "Education University of Pennsylvania (BS, BA)\n",
        "Title\n",
        "Founder, CEO and Chief Engineer of SpaceX\n",
        "CEO and product architect of Tesla, Inc.\n",
        "Founder of The Boring Company and X.com (now part of PayPal)\n",
        "Co-founder of Neuralink, OpenAI, and Zip2\n",
        "Spouse(s)\n",
        "Justine Wilson\n",
        "​U+200B\n",
        "U+200B​(m. 2000; div. 2008)​U+200B\n",
        "Talulah Riley (m. 2010; div. 2012)​U+200B\n",
        "​\n",
        "​(m. 2013; div. 2016)\n",
        "'''"
      ],
      "metadata": {
        "id": "3wlFpgrIdGgT"
      },
      "execution_count": 29,
      "outputs": []
    },
    {
      "cell_type": "code",
      "source": [
        "age_pattern = 'age (\\d+)'\n",
        "re.findall(age_pattern,text)"
      ],
      "metadata": {
        "colab": {
          "base_uri": "https://localhost:8080/"
        },
        "id": "J-jUR_eGfPa2",
        "outputId": "7958d695-a1e6-4ab8-eab0-34f4e98eda72"
      },
      "execution_count": 16,
      "outputs": [
        {
          "output_type": "execute_result",
          "data": {
            "text/plain": [
              "['50']"
            ]
          },
          "metadata": {},
          "execution_count": 16
        }
      ]
    },
    {
      "cell_type": "code",
      "source": [
        "name_pattern = 'Born(.*)'\n",
        "re.findall(name_pattern,text)[0].strip()"
      ],
      "metadata": {
        "colab": {
          "base_uri": "https://localhost:8080/",
          "height": 36
        },
        "id": "6Hx8J8cofWp_",
        "outputId": "b2edc4fa-4ba1-4af5-8897-ae349f2d85d8"
      },
      "execution_count": 17,
      "outputs": [
        {
          "output_type": "execute_result",
          "data": {
            "text/plain": [
              "'Elon Reeve Musk'"
            ],
            "application/vnd.google.colaboratory.intrinsic+json": {
              "type": "string"
            }
          },
          "metadata": {},
          "execution_count": 17
        }
      ]
    },
    {
      "cell_type": "code",
      "source": [
        "dob_pattern = 'Born.*\\n(.*)\\(age'\n",
        "re.findall(dob_pattern,text)[0].strip()"
      ],
      "metadata": {
        "colab": {
          "base_uri": "https://localhost:8080/",
          "height": 36
        },
        "id": "jEhXi7Z1gFf4",
        "outputId": "15508b19-1d33-4e32-ff15-b90be7b6e5cf"
      },
      "execution_count": 19,
      "outputs": [
        {
          "output_type": "execute_result",
          "data": {
            "text/plain": [
              "'June 28, 1971'"
            ],
            "application/vnd.google.colaboratory.intrinsic+json": {
              "type": "string"
            }
          },
          "metadata": {},
          "execution_count": 19
        }
      ]
    },
    {
      "cell_type": "code",
      "source": [
        "place_of_birth_pattern = '\\(age.*\\n(.*)'\n",
        "re.findall(place_of_birth_pattern,text)[0].strip()"
      ],
      "metadata": {
        "colab": {
          "base_uri": "https://localhost:8080/",
          "height": 36
        },
        "id": "sCnfFKi1ghz7",
        "outputId": "3e732d68-8df0-48ea-8aa1-bab9393c118c"
      },
      "execution_count": 20,
      "outputs": [
        {
          "output_type": "execute_result",
          "data": {
            "text/plain": [
              "'Pretoria, Transvaal, South Africa'"
            ],
            "application/vnd.google.colaboratory.intrinsic+json": {
              "type": "string"
            }
          },
          "metadata": {},
          "execution_count": 20
        }
      ]
    },
    {
      "cell_type": "code",
      "source": [
        "def get_pattern_match(pattern,text):\n",
        "  matches = re.findall(pattern,text)\n",
        "  if matches:\n",
        "    return matches[0]"
      ],
      "metadata": {
        "id": "VEov1d2AhzLO"
      },
      "execution_count": 21,
      "outputs": []
    },
    {
      "cell_type": "code",
      "source": [
        "def get_personal_info(text):\n",
        "  age = get_pattern_match('age (\\d+)',text)\n",
        "  name = get_pattern_match('Born(.*)\\n',text).strip()\n",
        "  dob = get_pattern_match('Born.*\\n(.*)\\(age',text)\n",
        "  place_of_birth = get_pattern_match('\\(age.*\\n(.*)',text)\n",
        "  return {f'age: {age}, name: {name}, dob: {dob}, place_of_birth: {place_of_birth}'}\n",
        "get_personal_info(text)"
      ],
      "metadata": {
        "colab": {
          "base_uri": "https://localhost:8080/"
        },
        "id": "2P6f07DxhSbX",
        "outputId": "80fc0a82-57ba-435e-f82d-a063bc3849a0"
      },
      "execution_count": 30,
      "outputs": [
        {
          "output_type": "execute_result",
          "data": {
            "text/plain": [
              "{'age: 50, name: Elon Reeve Musk, dob: June 28, 1971 , place_of_birth: Pretoria, Transvaal, South Africa'}"
            ]
          },
          "metadata": {},
          "execution_count": 30
        }
      ]
    },
    {
      "cell_type": "code",
      "source": [
        "text = '''Born\tMukesh Dhirubhai Ambani\n",
        "19 April 1957 (age 68)\n",
        "Aden, Colony of Aden\n",
        "(present-day Yemen)[1][2]\n",
        "Nationality\tIndian\n",
        "Alma mater\n",
        "St. Xavier's College, Mumbai\n",
        "Institute of Chemical Technology (B.E.)\n",
        "Occupation\tBusinessman\n",
        "Years active\t1981–present\n",
        "Organization\tReliance Industries\n",
        "Title\tChairman and MD of Reliance Industries\n",
        "Spouse\tNita Ambani ​(m. 1985)​[3]\n",
        "Children\t3\n",
        "Parents\n",
        "Dhirubhai Ambani (father)\n",
        "Kokilaben Ambani (mother)\n",
        "Relatives\tAnil Ambani (brother)\n",
        "Tina Ambani (sister-in-law)'''"
      ],
      "metadata": {
        "id": "3ahOJ4nAiTwC"
      },
      "execution_count": 31,
      "outputs": []
    },
    {
      "cell_type": "code",
      "source": [
        "get_personal_info(text)"
      ],
      "metadata": {
        "colab": {
          "base_uri": "https://localhost:8080/"
        },
        "id": "N-iKcVgCislc",
        "outputId": "ced64636-9f24-488a-c029-8873f5ac4fe8"
      },
      "execution_count": 32,
      "outputs": [
        {
          "output_type": "execute_result",
          "data": {
            "text/plain": [
              "{'age: 68, name: Mukesh Dhirubhai Ambani, dob: 19 April 1957 , place_of_birth: Aden, Colony of Aden'}"
            ]
          },
          "metadata": {},
          "execution_count": 32
        }
      ]
    },
    {
      "cell_type": "code",
      "source": [],
      "metadata": {
        "id": "ji3Ym_kZiwu4"
      },
      "execution_count": null,
      "outputs": []
    }
  ]
}